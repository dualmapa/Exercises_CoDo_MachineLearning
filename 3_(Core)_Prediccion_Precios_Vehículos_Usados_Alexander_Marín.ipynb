{
  "nbformat": 4,
  "nbformat_minor": 0,
  "metadata": {
    "colab": {
      "provenance": [],
      "collapsed_sections": [
        "f2U0d0D2ewyI",
        "_jIDviLtUFPL",
        "lbLgftgGliOS",
        "ZvXcX1eslkcj"
      ]
    },
    "kernelspec": {
      "name": "python3",
      "display_name": "Python 3"
    },
    "language_info": {
      "name": "python"
    }
  },
  "cells": [
    {
      "cell_type": "markdown",
      "source": [
        "# Predicción de Precios de Vehículos Usados (Core)\n",
        "\n",
        "\n",
        "\n"
      ],
      "metadata": {
        "id": "-bfETLd7Tb6H"
      }
    },
    {
      "cell_type": "markdown",
      "source": [
        "Objetivo\n",
        "\n",
        "Implementar y evaluar modelos de regresión, y seleccionar el mejor modelo basado en las métricas de evaluación.\n",
        "\n"
      ],
      "metadata": {
        "id": "dPQD0T_9TdW0"
      }
    },
    {
      "cell_type": "markdown",
      "source": [
        "Dataset\n",
        "\n",
        "https://www.kaggle.com/datasets/austinreese/craigslist-carstrucks-data\n",
        "\n"
      ],
      "metadata": {
        "id": "-GMi_oRVTfoa"
      }
    },
    {
      "cell_type": "markdown",
      "source": [
        "# **OBSERVACIÓN IMPORTANTE: **\n",
        "\n",
        "Me fue imposible cargar el archivo csv original en el Colab, pesa 1,34 GB (1.447.955.215 bytes) y tiene 447088 registros o filas, según excel\n",
        "\n",
        "Con Claude pude hacer algo como cargarlo directamente de Kaggle, pero aquí carga otra cantidad de registros, menor 426880, supongo que también debe deberse a que el mismo csv tiene demasiados errores, como que la mayoría de los datos están en la columna A, pero algunsa observaciones tiene datos en la columna B por ejemplo\n",
        "\n",
        "- Se intentó continuar de esa manera, pero en algún punto, sin avanzar mucho, el sistema se queda sin recursos en la RAM, entonces se reinicia, y no deja hacer gran cosa.\n",
        "\n",
        "- Para esto, dejo el código inicial, pero dividí el dataset original cargado desde kaggle para poder hacer el Core, pero trabajé desde el inicio con el dataset completo, y ni este ni la mitad de los datos fue posible avanzar de una buena manera, así que trabajé con el 25% de este, 106720 registros, lo cual me dicen dos IA que es bueno para modelar\n",
        "\n",
        "\n"
      ],
      "metadata": {
        "id": "f2U0d0D2ewyI"
      }
    },
    {
      "cell_type": "markdown",
      "source": [
        "**Claude**\n",
        "\n",
        "Te ayudo a importar el dataset de vehículos de Craigslist en Google Colab. Como no puedo acceder directamente al enlace, te mostraré el proceso paso a paso:\n",
        "\n",
        "Primero, necesitarás descargar el archivo de Kaggle y obtener tus credenciales de Kaggle:"
      ],
      "metadata": {
        "id": "dqwadfzQjYRJ"
      }
    },
    {
      "cell_type": "code",
      "source": [
        "# Instalar la API de Kaggle\n",
        "!pip install kaggle\n",
        "\n",
        "# Crear el directorio para las credenciales de Kaggle\n",
        "!mkdir -p ~/.kaggle"
      ],
      "metadata": {
        "id": "qqRRwnGjh3eL",
        "colab": {
          "base_uri": "https://localhost:8080/"
        },
        "outputId": "f7823e80-01a1-44f0-81f9-7bca3611844f"
      },
      "execution_count": null,
      "outputs": [
        {
          "output_type": "stream",
          "name": "stdout",
          "text": [
            "Requirement already satisfied: kaggle in /usr/local/lib/python3.10/dist-packages (1.6.17)\n",
            "Requirement already satisfied: six>=1.10 in /usr/local/lib/python3.10/dist-packages (from kaggle) (1.17.0)\n",
            "Requirement already satisfied: certifi>=2023.7.22 in /usr/local/lib/python3.10/dist-packages (from kaggle) (2024.12.14)\n",
            "Requirement already satisfied: python-dateutil in /usr/local/lib/python3.10/dist-packages (from kaggle) (2.8.2)\n",
            "Requirement already satisfied: requests in /usr/local/lib/python3.10/dist-packages (from kaggle) (2.32.3)\n",
            "Requirement already satisfied: tqdm in /usr/local/lib/python3.10/dist-packages (from kaggle) (4.67.1)\n",
            "Requirement already satisfied: python-slugify in /usr/local/lib/python3.10/dist-packages (from kaggle) (8.0.4)\n",
            "Requirement already satisfied: urllib3 in /usr/local/lib/python3.10/dist-packages (from kaggle) (2.3.0)\n",
            "Requirement already satisfied: bleach in /usr/local/lib/python3.10/dist-packages (from kaggle) (6.2.0)\n",
            "Requirement already satisfied: webencodings in /usr/local/lib/python3.10/dist-packages (from bleach->kaggle) (0.5.1)\n",
            "Requirement already satisfied: text-unidecode>=1.3 in /usr/local/lib/python3.10/dist-packages (from python-slugify->kaggle) (1.3)\n",
            "Requirement already satisfied: charset-normalizer<4,>=2 in /usr/local/lib/python3.10/dist-packages (from requests->kaggle) (3.4.1)\n",
            "Requirement already satisfied: idna<4,>=2.5 in /usr/local/lib/python3.10/dist-packages (from requests->kaggle) (3.10)\n"
          ]
        }
      ]
    },
    {
      "cell_type": "markdown",
      "source": [
        "**Claude**\n",
        "\n",
        "Necesitarás crear un archivo token de Kaggle:\n",
        "\n",
        "\n",
        "- Ve a tu cuenta de Kaggle (kaggle.com)\n",
        "- Ve a \"Account\"\n",
        "- Desplázate hasta \"API\"\n",
        "- Haz clic en \"Create New API Token\"\n",
        "- Esto descargará un archivo kaggle.json\n",
        "\n",
        "\n",
        "Sube el archivo kaggle.json a Colab:\n",
        "\n",
        "\n",
        "- En el panel izquierdo de Colab, haz clic en el ícono de carpeta\n",
        "- Arrastra y suelta el archivo kaggle.json que descargaste\n",
        "\n",
        "\n",
        "Mueve el archivo a la ubicación correcta y establece los permisos:"
      ],
      "metadata": {
        "id": "4tcekNcwjfDe"
      }
    },
    {
      "cell_type": "code",
      "source": [
        "!cp kaggle.json ~/.kaggle/\n",
        "!chmod 600 ~/.kaggle/kaggle.json"
      ],
      "metadata": {
        "id": "pnF0P0L2h3bU",
        "colab": {
          "base_uri": "https://localhost:8080/"
        },
        "outputId": "c22ecdf2-84a0-49ac-81c2-e422f9d0cd25"
      },
      "execution_count": null,
      "outputs": [
        {
          "output_type": "stream",
          "name": "stdout",
          "text": [
            "cp: cannot stat 'kaggle.json': No such file or directory\n",
            "chmod: cannot access '/root/.kaggle/kaggle.json': No such file or directory\n"
          ]
        }
      ]
    },
    {
      "cell_type": "markdown",
      "source": [
        "**Claude**\n",
        "\n",
        "Ahora puedes descargar el dataset directamente:"
      ],
      "metadata": {
        "id": "-A3wBTb7jqXm"
      }
    },
    {
      "cell_type": "code",
      "source": [
        "!kaggle datasets download -d austinreese/craigslist-carstrucks-data\n",
        "!unzip craigslist-carstrucks-data.zip"
      ],
      "metadata": {
        "colab": {
          "base_uri": "https://localhost:8080/"
        },
        "id": "R7GDFMFeh3Y2",
        "outputId": "26650874-f412-49a3-f9a8-a29ffe23cb93"
      },
      "execution_count": null,
      "outputs": [
        {
          "output_type": "stream",
          "name": "stdout",
          "text": [
            "Dataset URL: https://www.kaggle.com/datasets/austinreese/craigslist-carstrucks-data\n",
            "License(s): CC0-1.0\n",
            "Downloading craigslist-carstrucks-data.zip to /content\n",
            " 99% 260M/262M [00:11<00:00, 27.7MB/s]\n",
            "100% 262M/262M [00:11<00:00, 24.0MB/s]\n",
            "Archive:  craigslist-carstrucks-data.zip\n",
            "  inflating: vehicles.csv            \n"
          ]
        }
      ]
    },
    {
      "cell_type": "markdown",
      "source": [
        "**Claude**\n",
        "\n",
        "Finalmente, lee el archivo CSV con pandas:\n",
        "\n"
      ],
      "metadata": {
        "id": "EZ1fJwzMjtfD"
      }
    },
    {
      "cell_type": "code",
      "source": [
        "import pandas as pd\n",
        "\n",
        "# Lee el archivo CSV\n",
        "df = pd.read_csv('vehicles.csv')\n",
        "\n",
        "# Muestra las primeras filas para verificar\n",
        "print(df.head())"
      ],
      "metadata": {
        "colab": {
          "base_uri": "https://localhost:8080/"
        },
        "id": "LjtWcwHih3WX",
        "outputId": "58f1ad74-ac77-49a0-f8ac-1f32a10de954"
      },
      "execution_count": null,
      "outputs": [
        {
          "output_type": "stream",
          "name": "stdout",
          "text": [
            "           id                                                url  \\\n",
            "0  7222695916  https://prescott.craigslist.org/cto/d/prescott...   \n",
            "1  7218891961  https://fayar.craigslist.org/ctd/d/bentonville...   \n",
            "2  7221797935  https://keys.craigslist.org/cto/d/summerland-k...   \n",
            "3  7222270760  https://worcester.craigslist.org/cto/d/west-br...   \n",
            "4  7210384030  https://greensboro.craigslist.org/cto/d/trinit...   \n",
            "\n",
            "                   region                         region_url  price  year  \\\n",
            "0                prescott    https://prescott.craigslist.org   6000   NaN   \n",
            "1            fayetteville       https://fayar.craigslist.org  11900   NaN   \n",
            "2            florida keys        https://keys.craigslist.org  21000   NaN   \n",
            "3  worcester / central MA   https://worcester.craigslist.org   1500   NaN   \n",
            "4              greensboro  https://greensboro.craigslist.org   4900   NaN   \n",
            "\n",
            "  manufacturer model condition cylinders  ... size  type paint_color  \\\n",
            "0          NaN   NaN       NaN       NaN  ...  NaN   NaN         NaN   \n",
            "1          NaN   NaN       NaN       NaN  ...  NaN   NaN         NaN   \n",
            "2          NaN   NaN       NaN       NaN  ...  NaN   NaN         NaN   \n",
            "3          NaN   NaN       NaN       NaN  ...  NaN   NaN         NaN   \n",
            "4          NaN   NaN       NaN       NaN  ...  NaN   NaN         NaN   \n",
            "\n",
            "  image_url description county state lat long posting_date  \n",
            "0       NaN         NaN    NaN    az NaN  NaN          NaN  \n",
            "1       NaN         NaN    NaN    ar NaN  NaN          NaN  \n",
            "2       NaN         NaN    NaN    fl NaN  NaN          NaN  \n",
            "3       NaN         NaN    NaN    ma NaN  NaN          NaN  \n",
            "4       NaN         NaN    NaN    nc NaN  NaN          NaN  \n",
            "\n",
            "[5 rows x 26 columns]\n"
          ]
        }
      ]
    },
    {
      "cell_type": "code",
      "source": [
        "df.to_csv('exported_df_100.csv', index=False)  # Set index=False to avoid saving the index column"
      ],
      "metadata": {
        "id": "XdBL0CHOA55W"
      },
      "execution_count": null,
      "outputs": []
    },
    {
      "cell_type": "code",
      "source": [
        "df_copy1 = df.copy()\n",
        "fraction = 0.5  # Cambia esto a 0.33 o el porcentaje que prefieras\n",
        "\n",
        "df_sample = df_copy1.sample(frac=fraction, random_state=42)  # Muestra aleatoria\n",
        "df_remaining = df_copy1.drop(df_sample.index)"
      ],
      "metadata": {
        "id": "L59lH5JMA52T"
      },
      "execution_count": null,
      "outputs": []
    },
    {
      "cell_type": "code",
      "source": [
        "df_sample.to_csv('df_sample50.csv', index=False)\n",
        "df_remaining.to_csv('df_remaining50.csv', index=False)"
      ],
      "metadata": {
        "id": "Ko3qBrDCBP_7"
      },
      "execution_count": null,
      "outputs": []
    },
    {
      "cell_type": "code",
      "source": [
        "df_copy2 = df.copy()\n",
        "\n",
        "# Dividir en 4 partes iguales\n",
        "num_parts = 4\n",
        "dfs = np.array_split(df_copy2, num_parts)\n",
        "\n",
        "# Verificar tamaños\n",
        "for i, part in enumerate(dfs):\n",
        "    print(f\"Tamaño de la parte {i+1}: {part.shape}\")"
      ],
      "metadata": {
        "colab": {
          "base_uri": "https://localhost:8080/"
        },
        "id": "i44euH9oA5zn",
        "outputId": "fda7000a-5ace-488a-a788-6f2b8d268395"
      },
      "execution_count": null,
      "outputs": [
        {
          "output_type": "stream",
          "name": "stderr",
          "text": [
            "/usr/local/lib/python3.10/dist-packages/numpy/core/fromnumeric.py:59: FutureWarning: 'DataFrame.swapaxes' is deprecated and will be removed in a future version. Please use 'DataFrame.transpose' instead.\n",
            "  return bound(*args, **kwds)\n"
          ]
        },
        {
          "output_type": "stream",
          "name": "stdout",
          "text": [
            "Tamaño de la parte 1: (106720, 26)\n",
            "Tamaño de la parte 2: (106720, 26)\n",
            "Tamaño de la parte 3: (106720, 26)\n",
            "Tamaño de la parte 4: (106720, 26)\n"
          ]
        }
      ]
    },
    {
      "cell_type": "code",
      "source": [
        "for i, part in enumerate(dfs):\n",
        "    file_name = f'df_part_{i+1}.csv'  # Nombre del archivo\n",
        "    part.to_csv(file_name, index=False)  # Exportar a CSV sin incluir el índice\n",
        "    print(f\"Parte {i+1} guardada como {file_name}\")"
      ],
      "metadata": {
        "colab": {
          "base_uri": "https://localhost:8080/"
        },
        "id": "rsdtftKJA5w4",
        "outputId": "6f9f20fc-c6b7-4a58-f4bb-531fa8472d56"
      },
      "execution_count": null,
      "outputs": [
        {
          "output_type": "stream",
          "name": "stdout",
          "text": [
            "Parte 1 guardada como df_part_1.csv\n",
            "Parte 2 guardada como df_part_2.csv\n",
            "Parte 3 guardada como df_part_3.csv\n",
            "Parte 4 guardada como df_part_4.csv\n"
          ]
        }
      ]
    },
    {
      "cell_type": "markdown",
      "source": [
        "# 1)Carga y Exploración de Datos:\n",
        "\n"
      ],
      "metadata": {
        "id": "_jIDviLtUFPL"
      }
    },
    {
      "cell_type": "markdown",
      "source": [
        "## - Descargar y cargar el dataset.\n"
      ],
      "metadata": {
        "id": "aYEtqxEYj2UN"
      }
    },
    {
      "cell_type": "code",
      "source": [
        "import pandas as pd\n",
        "import numpy as np\n",
        "import matplotlib.pyplot as plt\n",
        "import seaborn as sns"
      ],
      "metadata": {
        "id": "zHt4CvRatJYO"
      },
      "execution_count": null,
      "outputs": []
    },
    {
      "cell_type": "code",
      "source": [
        "df = pd.read_csv('/content/3_Core_df_part_1_25.csv')"
      ],
      "metadata": {
        "id": "sZpnT9bDFCQh"
      },
      "execution_count": 7,
      "outputs": []
    },
    {
      "cell_type": "markdown",
      "source": [
        "## - Realizar una exploración inicial para entender la estructura del dataset.\n"
      ],
      "metadata": {
        "id": "miA3i8Crj6Ep"
      }
    },
    {
      "cell_type": "code",
      "source": [
        "df.info()"
      ],
      "metadata": {
        "colab": {
          "base_uri": "https://localhost:8080/"
        },
        "id": "CFIMsjbRh3Tz",
        "outputId": "5dd944b5-157e-4c07-ed5c-acae0a48a992"
      },
      "execution_count": null,
      "outputs": [
        {
          "output_type": "stream",
          "name": "stdout",
          "text": [
            "<class 'pandas.core.frame.DataFrame'>\n",
            "RangeIndex: 106720 entries, 0 to 106719\n",
            "Data columns (total 26 columns):\n",
            " #   Column        Non-Null Count   Dtype  \n",
            "---  ------        --------------   -----  \n",
            " 0   id            106720 non-null  int64  \n",
            " 1   url           106720 non-null  object \n",
            " 2   region        106720 non-null  object \n",
            " 3   region_url    106720 non-null  object \n",
            " 4   price         106720 non-null  int64  \n",
            " 5   year          106287 non-null  float64\n",
            " 6   manufacturer  102005 non-null  object \n",
            " 7   model         105341 non-null  object \n",
            " 8   condition     65482 non-null   object \n",
            " 9   cylinders     63469 non-null   object \n",
            " 10  fuel          106089 non-null  object \n",
            " 11  odometer      105149 non-null  float64\n",
            " 12  title_status  104357 non-null  object \n",
            " 13  transmission  106128 non-null  object \n",
            " 14  VIN           68172 non-null   object \n",
            " 15  drive         74087 non-null   object \n",
            " 16  size          30276 non-null   object \n",
            " 17  type          85865 non-null   object \n",
            " 18  paint_color   75126 non-null   object \n",
            " 19  image_url     106682 non-null  object \n",
            " 20  description   106681 non-null  object \n",
            " 21  county        0 non-null       float64\n",
            " 22  state         106720 non-null  object \n",
            " 23  lat           106129 non-null  float64\n",
            " 24  long          106129 non-null  float64\n",
            " 25  posting_date  106682 non-null  object \n",
            "dtypes: float64(5), int64(2), object(19)\n",
            "memory usage: 21.2+ MB\n"
          ]
        }
      ]
    },
    {
      "cell_type": "code",
      "source": [
        "def uniq (df):\n",
        "    df=pd.DataFrame([[i,df[i].unique(),df[i].dtype,len(df[i].unique())]for i in df.columns],columns=['feature','val','types','len']).set_index('feature')\n",
        "    return df"
      ],
      "metadata": {
        "id": "KGab-wIzh3RD"
      },
      "execution_count": null,
      "outputs": []
    },
    {
      "cell_type": "code",
      "source": [
        "unique= uniq(df)\n",
        "unique"
      ],
      "metadata": {
        "colab": {
          "base_uri": "https://localhost:8080/",
          "height": 896
        },
        "id": "5CFfQmoPh3Ob",
        "outputId": "d1e2c9ed-7a87-4579-c3dc-4cdb2d8f439b"
      },
      "execution_count": null,
      "outputs": [
        {
          "output_type": "execute_result",
          "data": {
            "text/plain": [
              "                                                            val    types  \\\n",
              "feature                                                                    \n",
              "id            [7222695916, 7218891961, 7221797935, 722227076...    int64   \n",
              "url           [https://prescott.craigslist.org/cto/d/prescot...   object   \n",
              "region        [prescott, fayetteville, florida keys, worcest...   object   \n",
              "region_url    [https://prescott.craigslist.org, https://faya...   object   \n",
              "price         [6000, 11900, 21000, 1500, 4900, 1600, 1000, 1...    int64   \n",
              "year          [nan, 2014.0, 2010.0, 2020.0, 2017.0, 2013.0, ...  float64   \n",
              "manufacturer  [nan, gmc, chevrolet, toyota, ford, jeep, niss...   object   \n",
              "model         [nan, sierra 1500 crew cab slt, silverado 1500...   object   \n",
              "condition     [nan, good, excellent, fair, like new, new, sa...   object   \n",
              "cylinders     [nan, 8 cylinders, 6 cylinders, 4 cylinders, 5...   object   \n",
              "fuel                [nan, gas, other, diesel, hybrid, electric]   object   \n",
              "odometer      [nan, 57923.0, 71229.0, 19160.0, 41124.0, 1280...  float64   \n",
              "title_status  [nan, clean, rebuilt, lien, salvage, missing, ...   object   \n",
              "transmission                    [nan, other, automatic, manual]   object   \n",
              "VIN           [nan, 3GTP1VEC4EG551563, 1GCSCSE06AZ123805, 3G...   object   \n",
              "drive                                      [nan, rwd, 4wd, fwd]   object   \n",
              "size           [nan, full-size, mid-size, compact, sub-compact]   object   \n",
              "type          [nan, pickup, truck, other, coupe, SUV, hatchb...   object   \n",
              "paint_color   [nan, white, blue, red, black, silver, grey, b...   object   \n",
              "image_url     [nan, https://images.craigslist.org/00R0R_lwWj...   object   \n",
              "description   [nan, Carvana is the safer way to buy a car Du...   object   \n",
              "county                                                    [nan]  float64   \n",
              "state         [az, ar, fl, ma, nc, ny, or, pa, tx, wa, wi, a...   object   \n",
              "lat           [nan, 32.59, 32.592, 32.6013, 32.6454, 32.5475...  float64   \n",
              "long          [nan, -85.48, -85.5189, -85.443974, -85.3783, ...  float64   \n",
              "posting_date  [nan, 2021-05-04T12:31:18-0500, 2021-05-04T12:...   object   \n",
              "\n",
              "                 len  \n",
              "feature               \n",
              "id            106720  \n",
              "url           106720  \n",
              "region            89  \n",
              "region_url        89  \n",
              "price           6870  \n",
              "year             105  \n",
              "manufacturer      42  \n",
              "model          12976  \n",
              "condition          7  \n",
              "cylinders          9  \n",
              "fuel               6  \n",
              "odometer       39965  \n",
              "title_status       7  \n",
              "transmission       4  \n",
              "VIN            36219  \n",
              "drive              4  \n",
              "size               5  \n",
              "type              14  \n",
              "paint_color       13  \n",
              "image_url      67712  \n",
              "description    92009  \n",
              "county             1  \n",
              "state             18  \n",
              "lat            13536  \n",
              "long           13580  \n",
              "posting_date  100761  "
            ],
            "text/html": [
              "\n",
              "  <div id=\"df-e4cacedd-8ba6-49f5-b0e0-42193a5ed0eb\" class=\"colab-df-container\">\n",
              "    <div>\n",
              "<style scoped>\n",
              "    .dataframe tbody tr th:only-of-type {\n",
              "        vertical-align: middle;\n",
              "    }\n",
              "\n",
              "    .dataframe tbody tr th {\n",
              "        vertical-align: top;\n",
              "    }\n",
              "\n",
              "    .dataframe thead th {\n",
              "        text-align: right;\n",
              "    }\n",
              "</style>\n",
              "<table border=\"1\" class=\"dataframe\">\n",
              "  <thead>\n",
              "    <tr style=\"text-align: right;\">\n",
              "      <th></th>\n",
              "      <th>val</th>\n",
              "      <th>types</th>\n",
              "      <th>len</th>\n",
              "    </tr>\n",
              "    <tr>\n",
              "      <th>feature</th>\n",
              "      <th></th>\n",
              "      <th></th>\n",
              "      <th></th>\n",
              "    </tr>\n",
              "  </thead>\n",
              "  <tbody>\n",
              "    <tr>\n",
              "      <th>id</th>\n",
              "      <td>[7222695916, 7218891961, 7221797935, 722227076...</td>\n",
              "      <td>int64</td>\n",
              "      <td>106720</td>\n",
              "    </tr>\n",
              "    <tr>\n",
              "      <th>url</th>\n",
              "      <td>[https://prescott.craigslist.org/cto/d/prescot...</td>\n",
              "      <td>object</td>\n",
              "      <td>106720</td>\n",
              "    </tr>\n",
              "    <tr>\n",
              "      <th>region</th>\n",
              "      <td>[prescott, fayetteville, florida keys, worcest...</td>\n",
              "      <td>object</td>\n",
              "      <td>89</td>\n",
              "    </tr>\n",
              "    <tr>\n",
              "      <th>region_url</th>\n",
              "      <td>[https://prescott.craigslist.org, https://faya...</td>\n",
              "      <td>object</td>\n",
              "      <td>89</td>\n",
              "    </tr>\n",
              "    <tr>\n",
              "      <th>price</th>\n",
              "      <td>[6000, 11900, 21000, 1500, 4900, 1600, 1000, 1...</td>\n",
              "      <td>int64</td>\n",
              "      <td>6870</td>\n",
              "    </tr>\n",
              "    <tr>\n",
              "      <th>year</th>\n",
              "      <td>[nan, 2014.0, 2010.0, 2020.0, 2017.0, 2013.0, ...</td>\n",
              "      <td>float64</td>\n",
              "      <td>105</td>\n",
              "    </tr>\n",
              "    <tr>\n",
              "      <th>manufacturer</th>\n",
              "      <td>[nan, gmc, chevrolet, toyota, ford, jeep, niss...</td>\n",
              "      <td>object</td>\n",
              "      <td>42</td>\n",
              "    </tr>\n",
              "    <tr>\n",
              "      <th>model</th>\n",
              "      <td>[nan, sierra 1500 crew cab slt, silverado 1500...</td>\n",
              "      <td>object</td>\n",
              "      <td>12976</td>\n",
              "    </tr>\n",
              "    <tr>\n",
              "      <th>condition</th>\n",
              "      <td>[nan, good, excellent, fair, like new, new, sa...</td>\n",
              "      <td>object</td>\n",
              "      <td>7</td>\n",
              "    </tr>\n",
              "    <tr>\n",
              "      <th>cylinders</th>\n",
              "      <td>[nan, 8 cylinders, 6 cylinders, 4 cylinders, 5...</td>\n",
              "      <td>object</td>\n",
              "      <td>9</td>\n",
              "    </tr>\n",
              "    <tr>\n",
              "      <th>fuel</th>\n",
              "      <td>[nan, gas, other, diesel, hybrid, electric]</td>\n",
              "      <td>object</td>\n",
              "      <td>6</td>\n",
              "    </tr>\n",
              "    <tr>\n",
              "      <th>odometer</th>\n",
              "      <td>[nan, 57923.0, 71229.0, 19160.0, 41124.0, 1280...</td>\n",
              "      <td>float64</td>\n",
              "      <td>39965</td>\n",
              "    </tr>\n",
              "    <tr>\n",
              "      <th>title_status</th>\n",
              "      <td>[nan, clean, rebuilt, lien, salvage, missing, ...</td>\n",
              "      <td>object</td>\n",
              "      <td>7</td>\n",
              "    </tr>\n",
              "    <tr>\n",
              "      <th>transmission</th>\n",
              "      <td>[nan, other, automatic, manual]</td>\n",
              "      <td>object</td>\n",
              "      <td>4</td>\n",
              "    </tr>\n",
              "    <tr>\n",
              "      <th>VIN</th>\n",
              "      <td>[nan, 3GTP1VEC4EG551563, 1GCSCSE06AZ123805, 3G...</td>\n",
              "      <td>object</td>\n",
              "      <td>36219</td>\n",
              "    </tr>\n",
              "    <tr>\n",
              "      <th>drive</th>\n",
              "      <td>[nan, rwd, 4wd, fwd]</td>\n",
              "      <td>object</td>\n",
              "      <td>4</td>\n",
              "    </tr>\n",
              "    <tr>\n",
              "      <th>size</th>\n",
              "      <td>[nan, full-size, mid-size, compact, sub-compact]</td>\n",
              "      <td>object</td>\n",
              "      <td>5</td>\n",
              "    </tr>\n",
              "    <tr>\n",
              "      <th>type</th>\n",
              "      <td>[nan, pickup, truck, other, coupe, SUV, hatchb...</td>\n",
              "      <td>object</td>\n",
              "      <td>14</td>\n",
              "    </tr>\n",
              "    <tr>\n",
              "      <th>paint_color</th>\n",
              "      <td>[nan, white, blue, red, black, silver, grey, b...</td>\n",
              "      <td>object</td>\n",
              "      <td>13</td>\n",
              "    </tr>\n",
              "    <tr>\n",
              "      <th>image_url</th>\n",
              "      <td>[nan, https://images.craigslist.org/00R0R_lwWj...</td>\n",
              "      <td>object</td>\n",
              "      <td>67712</td>\n",
              "    </tr>\n",
              "    <tr>\n",
              "      <th>description</th>\n",
              "      <td>[nan, Carvana is the safer way to buy a car Du...</td>\n",
              "      <td>object</td>\n",
              "      <td>92009</td>\n",
              "    </tr>\n",
              "    <tr>\n",
              "      <th>county</th>\n",
              "      <td>[nan]</td>\n",
              "      <td>float64</td>\n",
              "      <td>1</td>\n",
              "    </tr>\n",
              "    <tr>\n",
              "      <th>state</th>\n",
              "      <td>[az, ar, fl, ma, nc, ny, or, pa, tx, wa, wi, a...</td>\n",
              "      <td>object</td>\n",
              "      <td>18</td>\n",
              "    </tr>\n",
              "    <tr>\n",
              "      <th>lat</th>\n",
              "      <td>[nan, 32.59, 32.592, 32.6013, 32.6454, 32.5475...</td>\n",
              "      <td>float64</td>\n",
              "      <td>13536</td>\n",
              "    </tr>\n",
              "    <tr>\n",
              "      <th>long</th>\n",
              "      <td>[nan, -85.48, -85.5189, -85.443974, -85.3783, ...</td>\n",
              "      <td>float64</td>\n",
              "      <td>13580</td>\n",
              "    </tr>\n",
              "    <tr>\n",
              "      <th>posting_date</th>\n",
              "      <td>[nan, 2021-05-04T12:31:18-0500, 2021-05-04T12:...</td>\n",
              "      <td>object</td>\n",
              "      <td>100761</td>\n",
              "    </tr>\n",
              "  </tbody>\n",
              "</table>\n",
              "</div>\n",
              "    <div class=\"colab-df-buttons\">\n",
              "\n",
              "  <div class=\"colab-df-container\">\n",
              "    <button class=\"colab-df-convert\" onclick=\"convertToInteractive('df-e4cacedd-8ba6-49f5-b0e0-42193a5ed0eb')\"\n",
              "            title=\"Convert this dataframe to an interactive table.\"\n",
              "            style=\"display:none;\">\n",
              "\n",
              "  <svg xmlns=\"http://www.w3.org/2000/svg\" height=\"24px\" viewBox=\"0 -960 960 960\">\n",
              "    <path d=\"M120-120v-720h720v720H120Zm60-500h600v-160H180v160Zm220 220h160v-160H400v160Zm0 220h160v-160H400v160ZM180-400h160v-160H180v160Zm440 0h160v-160H620v160ZM180-180h160v-160H180v160Zm440 0h160v-160H620v160Z\"/>\n",
              "  </svg>\n",
              "    </button>\n",
              "\n",
              "  <style>\n",
              "    .colab-df-container {\n",
              "      display:flex;\n",
              "      gap: 12px;\n",
              "    }\n",
              "\n",
              "    .colab-df-convert {\n",
              "      background-color: #E8F0FE;\n",
              "      border: none;\n",
              "      border-radius: 50%;\n",
              "      cursor: pointer;\n",
              "      display: none;\n",
              "      fill: #1967D2;\n",
              "      height: 32px;\n",
              "      padding: 0 0 0 0;\n",
              "      width: 32px;\n",
              "    }\n",
              "\n",
              "    .colab-df-convert:hover {\n",
              "      background-color: #E2EBFA;\n",
              "      box-shadow: 0px 1px 2px rgba(60, 64, 67, 0.3), 0px 1px 3px 1px rgba(60, 64, 67, 0.15);\n",
              "      fill: #174EA6;\n",
              "    }\n",
              "\n",
              "    .colab-df-buttons div {\n",
              "      margin-bottom: 4px;\n",
              "    }\n",
              "\n",
              "    [theme=dark] .colab-df-convert {\n",
              "      background-color: #3B4455;\n",
              "      fill: #D2E3FC;\n",
              "    }\n",
              "\n",
              "    [theme=dark] .colab-df-convert:hover {\n",
              "      background-color: #434B5C;\n",
              "      box-shadow: 0px 1px 3px 1px rgba(0, 0, 0, 0.15);\n",
              "      filter: drop-shadow(0px 1px 2px rgba(0, 0, 0, 0.3));\n",
              "      fill: #FFFFFF;\n",
              "    }\n",
              "  </style>\n",
              "\n",
              "    <script>\n",
              "      const buttonEl =\n",
              "        document.querySelector('#df-e4cacedd-8ba6-49f5-b0e0-42193a5ed0eb button.colab-df-convert');\n",
              "      buttonEl.style.display =\n",
              "        google.colab.kernel.accessAllowed ? 'block' : 'none';\n",
              "\n",
              "      async function convertToInteractive(key) {\n",
              "        const element = document.querySelector('#df-e4cacedd-8ba6-49f5-b0e0-42193a5ed0eb');\n",
              "        const dataTable =\n",
              "          await google.colab.kernel.invokeFunction('convertToInteractive',\n",
              "                                                    [key], {});\n",
              "        if (!dataTable) return;\n",
              "\n",
              "        const docLinkHtml = 'Like what you see? Visit the ' +\n",
              "          '<a target=\"_blank\" href=https://colab.research.google.com/notebooks/data_table.ipynb>data table notebook</a>'\n",
              "          + ' to learn more about interactive tables.';\n",
              "        element.innerHTML = '';\n",
              "        dataTable['output_type'] = 'display_data';\n",
              "        await google.colab.output.renderOutput(dataTable, element);\n",
              "        const docLink = document.createElement('div');\n",
              "        docLink.innerHTML = docLinkHtml;\n",
              "        element.appendChild(docLink);\n",
              "      }\n",
              "    </script>\n",
              "  </div>\n",
              "\n",
              "\n",
              "<div id=\"df-3db0d1d3-4436-402c-931a-d3159895c166\">\n",
              "  <button class=\"colab-df-quickchart\" onclick=\"quickchart('df-3db0d1d3-4436-402c-931a-d3159895c166')\"\n",
              "            title=\"Suggest charts\"\n",
              "            style=\"display:none;\">\n",
              "\n",
              "<svg xmlns=\"http://www.w3.org/2000/svg\" height=\"24px\"viewBox=\"0 0 24 24\"\n",
              "     width=\"24px\">\n",
              "    <g>\n",
              "        <path d=\"M19 3H5c-1.1 0-2 .9-2 2v14c0 1.1.9 2 2 2h14c1.1 0 2-.9 2-2V5c0-1.1-.9-2-2-2zM9 17H7v-7h2v7zm4 0h-2V7h2v10zm4 0h-2v-4h2v4z\"/>\n",
              "    </g>\n",
              "</svg>\n",
              "  </button>\n",
              "\n",
              "<style>\n",
              "  .colab-df-quickchart {\n",
              "      --bg-color: #E8F0FE;\n",
              "      --fill-color: #1967D2;\n",
              "      --hover-bg-color: #E2EBFA;\n",
              "      --hover-fill-color: #174EA6;\n",
              "      --disabled-fill-color: #AAA;\n",
              "      --disabled-bg-color: #DDD;\n",
              "  }\n",
              "\n",
              "  [theme=dark] .colab-df-quickchart {\n",
              "      --bg-color: #3B4455;\n",
              "      --fill-color: #D2E3FC;\n",
              "      --hover-bg-color: #434B5C;\n",
              "      --hover-fill-color: #FFFFFF;\n",
              "      --disabled-bg-color: #3B4455;\n",
              "      --disabled-fill-color: #666;\n",
              "  }\n",
              "\n",
              "  .colab-df-quickchart {\n",
              "    background-color: var(--bg-color);\n",
              "    border: none;\n",
              "    border-radius: 50%;\n",
              "    cursor: pointer;\n",
              "    display: none;\n",
              "    fill: var(--fill-color);\n",
              "    height: 32px;\n",
              "    padding: 0;\n",
              "    width: 32px;\n",
              "  }\n",
              "\n",
              "  .colab-df-quickchart:hover {\n",
              "    background-color: var(--hover-bg-color);\n",
              "    box-shadow: 0 1px 2px rgba(60, 64, 67, 0.3), 0 1px 3px 1px rgba(60, 64, 67, 0.15);\n",
              "    fill: var(--button-hover-fill-color);\n",
              "  }\n",
              "\n",
              "  .colab-df-quickchart-complete:disabled,\n",
              "  .colab-df-quickchart-complete:disabled:hover {\n",
              "    background-color: var(--disabled-bg-color);\n",
              "    fill: var(--disabled-fill-color);\n",
              "    box-shadow: none;\n",
              "  }\n",
              "\n",
              "  .colab-df-spinner {\n",
              "    border: 2px solid var(--fill-color);\n",
              "    border-color: transparent;\n",
              "    border-bottom-color: var(--fill-color);\n",
              "    animation:\n",
              "      spin 1s steps(1) infinite;\n",
              "  }\n",
              "\n",
              "  @keyframes spin {\n",
              "    0% {\n",
              "      border-color: transparent;\n",
              "      border-bottom-color: var(--fill-color);\n",
              "      border-left-color: var(--fill-color);\n",
              "    }\n",
              "    20% {\n",
              "      border-color: transparent;\n",
              "      border-left-color: var(--fill-color);\n",
              "      border-top-color: var(--fill-color);\n",
              "    }\n",
              "    30% {\n",
              "      border-color: transparent;\n",
              "      border-left-color: var(--fill-color);\n",
              "      border-top-color: var(--fill-color);\n",
              "      border-right-color: var(--fill-color);\n",
              "    }\n",
              "    40% {\n",
              "      border-color: transparent;\n",
              "      border-right-color: var(--fill-color);\n",
              "      border-top-color: var(--fill-color);\n",
              "    }\n",
              "    60% {\n",
              "      border-color: transparent;\n",
              "      border-right-color: var(--fill-color);\n",
              "    }\n",
              "    80% {\n",
              "      border-color: transparent;\n",
              "      border-right-color: var(--fill-color);\n",
              "      border-bottom-color: var(--fill-color);\n",
              "    }\n",
              "    90% {\n",
              "      border-color: transparent;\n",
              "      border-bottom-color: var(--fill-color);\n",
              "    }\n",
              "  }\n",
              "</style>\n",
              "\n",
              "  <script>\n",
              "    async function quickchart(key) {\n",
              "      const quickchartButtonEl =\n",
              "        document.querySelector('#' + key + ' button');\n",
              "      quickchartButtonEl.disabled = true;  // To prevent multiple clicks.\n",
              "      quickchartButtonEl.classList.add('colab-df-spinner');\n",
              "      try {\n",
              "        const charts = await google.colab.kernel.invokeFunction(\n",
              "            'suggestCharts', [key], {});\n",
              "      } catch (error) {\n",
              "        console.error('Error during call to suggestCharts:', error);\n",
              "      }\n",
              "      quickchartButtonEl.classList.remove('colab-df-spinner');\n",
              "      quickchartButtonEl.classList.add('colab-df-quickchart-complete');\n",
              "    }\n",
              "    (() => {\n",
              "      let quickchartButtonEl =\n",
              "        document.querySelector('#df-3db0d1d3-4436-402c-931a-d3159895c166 button');\n",
              "      quickchartButtonEl.style.display =\n",
              "        google.colab.kernel.accessAllowed ? 'block' : 'none';\n",
              "    })();\n",
              "  </script>\n",
              "</div>\n",
              "\n",
              "  <div id=\"id_dec6c7ef-7644-431b-a4ba-719ad626ecd5\">\n",
              "    <style>\n",
              "      .colab-df-generate {\n",
              "        background-color: #E8F0FE;\n",
              "        border: none;\n",
              "        border-radius: 50%;\n",
              "        cursor: pointer;\n",
              "        display: none;\n",
              "        fill: #1967D2;\n",
              "        height: 32px;\n",
              "        padding: 0 0 0 0;\n",
              "        width: 32px;\n",
              "      }\n",
              "\n",
              "      .colab-df-generate:hover {\n",
              "        background-color: #E2EBFA;\n",
              "        box-shadow: 0px 1px 2px rgba(60, 64, 67, 0.3), 0px 1px 3px 1px rgba(60, 64, 67, 0.15);\n",
              "        fill: #174EA6;\n",
              "      }\n",
              "\n",
              "      [theme=dark] .colab-df-generate {\n",
              "        background-color: #3B4455;\n",
              "        fill: #D2E3FC;\n",
              "      }\n",
              "\n",
              "      [theme=dark] .colab-df-generate:hover {\n",
              "        background-color: #434B5C;\n",
              "        box-shadow: 0px 1px 3px 1px rgba(0, 0, 0, 0.15);\n",
              "        filter: drop-shadow(0px 1px 2px rgba(0, 0, 0, 0.3));\n",
              "        fill: #FFFFFF;\n",
              "      }\n",
              "    </style>\n",
              "    <button class=\"colab-df-generate\" onclick=\"generateWithVariable('unique')\"\n",
              "            title=\"Generate code using this dataframe.\"\n",
              "            style=\"display:none;\">\n",
              "\n",
              "  <svg xmlns=\"http://www.w3.org/2000/svg\" height=\"24px\"viewBox=\"0 0 24 24\"\n",
              "       width=\"24px\">\n",
              "    <path d=\"M7,19H8.4L18.45,9,17,7.55,7,17.6ZM5,21V16.75L18.45,3.32a2,2,0,0,1,2.83,0l1.4,1.43a1.91,1.91,0,0,1,.58,1.4,1.91,1.91,0,0,1-.58,1.4L9.25,21ZM18.45,9,17,7.55Zm-12,3A5.31,5.31,0,0,0,4.9,8.1,5.31,5.31,0,0,0,1,6.5,5.31,5.31,0,0,0,4.9,4.9,5.31,5.31,0,0,0,6.5,1,5.31,5.31,0,0,0,8.1,4.9,5.31,5.31,0,0,0,12,6.5,5.46,5.46,0,0,0,6.5,12Z\"/>\n",
              "  </svg>\n",
              "    </button>\n",
              "    <script>\n",
              "      (() => {\n",
              "      const buttonEl =\n",
              "        document.querySelector('#id_dec6c7ef-7644-431b-a4ba-719ad626ecd5 button.colab-df-generate');\n",
              "      buttonEl.style.display =\n",
              "        google.colab.kernel.accessAllowed ? 'block' : 'none';\n",
              "\n",
              "      buttonEl.onclick = () => {\n",
              "        google.colab.notebook.generateWithVariable('unique');\n",
              "      }\n",
              "      })();\n",
              "    </script>\n",
              "  </div>\n",
              "\n",
              "    </div>\n",
              "  </div>\n"
            ],
            "application/vnd.google.colaboratory.intrinsic+json": {
              "type": "dataframe",
              "variable_name": "unique",
              "summary": "{\n  \"name\": \"unique\",\n  \"rows\": 26,\n  \"fields\": [\n    {\n      \"column\": \"feature\",\n      \"properties\": {\n        \"dtype\": \"string\",\n        \"num_unique_values\": 26,\n        \"samples\": [\n          \"condition\",\n          \"size\",\n          \"id\"\n        ],\n        \"semantic_type\": \"\",\n        \"description\": \"\"\n      }\n    },\n    {\n      \"column\": \"val\",\n      \"properties\": {\n        \"dtype\": \"object\",\n        \"semantic_type\": \"\",\n        \"description\": \"\"\n      }\n    },\n    {\n      \"column\": \"types\",\n      \"properties\": {\n        \"dtype\": \"category\",\n        \"num_unique_values\": 3,\n        \"samples\": [\n          \"int64\",\n          \"object\",\n          \"float64\"\n        ],\n        \"semantic_type\": \"\",\n        \"description\": \"\"\n      }\n    },\n    {\n      \"column\": \"len\",\n      \"properties\": {\n        \"dtype\": \"number\",\n        \"std\": 37812,\n        \"min\": 1,\n        \"max\": 106720,\n        \"num_unique_values\": 22,\n        \"samples\": [\n          106720,\n          14,\n          6\n        ],\n        \"semantic_type\": \"\",\n        \"description\": \"\"\n      }\n    }\n  ]\n}"
            }
          },
          "metadata": {},
          "execution_count": 11
        }
      ]
    },
    {
      "cell_type": "code",
      "source": [
        "df.describe().round(2)"
      ],
      "metadata": {
        "colab": {
          "base_uri": "https://localhost:8080/",
          "height": 300
        },
        "id": "xoIoyQ22h3L8",
        "outputId": "3e372187-cede-43ea-9555-f0e42b7045af"
      },
      "execution_count": null,
      "outputs": [
        {
          "output_type": "execute_result",
          "data": {
            "text/plain": [
              "                 id         price       year     odometer  county        lat  \\\n",
              "count  1.067200e+05  1.067200e+05  106287.00    105149.00     0.0  106129.00   \n",
              "mean   7.311946e+09  1.052452e+05    2011.00     97253.16     NaN      36.30   \n",
              "std    4.646391e+06  1.424690e+07       9.98    234915.32     NaN       6.10   \n",
              "min    7.208550e+09  0.000000e+00    1900.00         0.00     NaN     -84.12   \n",
              "25%    7.308707e+09  5.997000e+03    2008.00     37139.00     NaN      33.57   \n",
              "50%    7.313470e+09  1.399500e+04    2014.00     83025.00     NaN      35.38   \n",
              "75%    7.315623e+09  2.599000e+04    2017.00    130000.00     NaN      38.82   \n",
              "max    7.316956e+09  3.024942e+09    2022.00  10000000.00     NaN      82.39   \n",
              "\n",
              "            long  \n",
              "count  106129.00  \n",
              "mean     -106.01  \n",
              "std        18.82  \n",
              "min      -158.60  \n",
              "25%      -120.50  \n",
              "50%      -112.10  \n",
              "75%       -84.45  \n",
              "max       173.89  "
            ],
            "text/html": [
              "\n",
              "  <div id=\"df-21632acf-2edd-478e-bfc5-41ac5e1b9a7e\" class=\"colab-df-container\">\n",
              "    <div>\n",
              "<style scoped>\n",
              "    .dataframe tbody tr th:only-of-type {\n",
              "        vertical-align: middle;\n",
              "    }\n",
              "\n",
              "    .dataframe tbody tr th {\n",
              "        vertical-align: top;\n",
              "    }\n",
              "\n",
              "    .dataframe thead th {\n",
              "        text-align: right;\n",
              "    }\n",
              "</style>\n",
              "<table border=\"1\" class=\"dataframe\">\n",
              "  <thead>\n",
              "    <tr style=\"text-align: right;\">\n",
              "      <th></th>\n",
              "      <th>id</th>\n",
              "      <th>price</th>\n",
              "      <th>year</th>\n",
              "      <th>odometer</th>\n",
              "      <th>county</th>\n",
              "      <th>lat</th>\n",
              "      <th>long</th>\n",
              "    </tr>\n",
              "  </thead>\n",
              "  <tbody>\n",
              "    <tr>\n",
              "      <th>count</th>\n",
              "      <td>1.067200e+05</td>\n",
              "      <td>1.067200e+05</td>\n",
              "      <td>106287.00</td>\n",
              "      <td>105149.00</td>\n",
              "      <td>0.0</td>\n",
              "      <td>106129.00</td>\n",
              "      <td>106129.00</td>\n",
              "    </tr>\n",
              "    <tr>\n",
              "      <th>mean</th>\n",
              "      <td>7.311946e+09</td>\n",
              "      <td>1.052452e+05</td>\n",
              "      <td>2011.00</td>\n",
              "      <td>97253.16</td>\n",
              "      <td>NaN</td>\n",
              "      <td>36.30</td>\n",
              "      <td>-106.01</td>\n",
              "    </tr>\n",
              "    <tr>\n",
              "      <th>std</th>\n",
              "      <td>4.646391e+06</td>\n",
              "      <td>1.424690e+07</td>\n",
              "      <td>9.98</td>\n",
              "      <td>234915.32</td>\n",
              "      <td>NaN</td>\n",
              "      <td>6.10</td>\n",
              "      <td>18.82</td>\n",
              "    </tr>\n",
              "    <tr>\n",
              "      <th>min</th>\n",
              "      <td>7.208550e+09</td>\n",
              "      <td>0.000000e+00</td>\n",
              "      <td>1900.00</td>\n",
              "      <td>0.00</td>\n",
              "      <td>NaN</td>\n",
              "      <td>-84.12</td>\n",
              "      <td>-158.60</td>\n",
              "    </tr>\n",
              "    <tr>\n",
              "      <th>25%</th>\n",
              "      <td>7.308707e+09</td>\n",
              "      <td>5.997000e+03</td>\n",
              "      <td>2008.00</td>\n",
              "      <td>37139.00</td>\n",
              "      <td>NaN</td>\n",
              "      <td>33.57</td>\n",
              "      <td>-120.50</td>\n",
              "    </tr>\n",
              "    <tr>\n",
              "      <th>50%</th>\n",
              "      <td>7.313470e+09</td>\n",
              "      <td>1.399500e+04</td>\n",
              "      <td>2014.00</td>\n",
              "      <td>83025.00</td>\n",
              "      <td>NaN</td>\n",
              "      <td>35.38</td>\n",
              "      <td>-112.10</td>\n",
              "    </tr>\n",
              "    <tr>\n",
              "      <th>75%</th>\n",
              "      <td>7.315623e+09</td>\n",
              "      <td>2.599000e+04</td>\n",
              "      <td>2017.00</td>\n",
              "      <td>130000.00</td>\n",
              "      <td>NaN</td>\n",
              "      <td>38.82</td>\n",
              "      <td>-84.45</td>\n",
              "    </tr>\n",
              "    <tr>\n",
              "      <th>max</th>\n",
              "      <td>7.316956e+09</td>\n",
              "      <td>3.024942e+09</td>\n",
              "      <td>2022.00</td>\n",
              "      <td>10000000.00</td>\n",
              "      <td>NaN</td>\n",
              "      <td>82.39</td>\n",
              "      <td>173.89</td>\n",
              "    </tr>\n",
              "  </tbody>\n",
              "</table>\n",
              "</div>\n",
              "    <div class=\"colab-df-buttons\">\n",
              "\n",
              "  <div class=\"colab-df-container\">\n",
              "    <button class=\"colab-df-convert\" onclick=\"convertToInteractive('df-21632acf-2edd-478e-bfc5-41ac5e1b9a7e')\"\n",
              "            title=\"Convert this dataframe to an interactive table.\"\n",
              "            style=\"display:none;\">\n",
              "\n",
              "  <svg xmlns=\"http://www.w3.org/2000/svg\" height=\"24px\" viewBox=\"0 -960 960 960\">\n",
              "    <path d=\"M120-120v-720h720v720H120Zm60-500h600v-160H180v160Zm220 220h160v-160H400v160Zm0 220h160v-160H400v160ZM180-400h160v-160H180v160Zm440 0h160v-160H620v160ZM180-180h160v-160H180v160Zm440 0h160v-160H620v160Z\"/>\n",
              "  </svg>\n",
              "    </button>\n",
              "\n",
              "  <style>\n",
              "    .colab-df-container {\n",
              "      display:flex;\n",
              "      gap: 12px;\n",
              "    }\n",
              "\n",
              "    .colab-df-convert {\n",
              "      background-color: #E8F0FE;\n",
              "      border: none;\n",
              "      border-radius: 50%;\n",
              "      cursor: pointer;\n",
              "      display: none;\n",
              "      fill: #1967D2;\n",
              "      height: 32px;\n",
              "      padding: 0 0 0 0;\n",
              "      width: 32px;\n",
              "    }\n",
              "\n",
              "    .colab-df-convert:hover {\n",
              "      background-color: #E2EBFA;\n",
              "      box-shadow: 0px 1px 2px rgba(60, 64, 67, 0.3), 0px 1px 3px 1px rgba(60, 64, 67, 0.15);\n",
              "      fill: #174EA6;\n",
              "    }\n",
              "\n",
              "    .colab-df-buttons div {\n",
              "      margin-bottom: 4px;\n",
              "    }\n",
              "\n",
              "    [theme=dark] .colab-df-convert {\n",
              "      background-color: #3B4455;\n",
              "      fill: #D2E3FC;\n",
              "    }\n",
              "\n",
              "    [theme=dark] .colab-df-convert:hover {\n",
              "      background-color: #434B5C;\n",
              "      box-shadow: 0px 1px 3px 1px rgba(0, 0, 0, 0.15);\n",
              "      filter: drop-shadow(0px 1px 2px rgba(0, 0, 0, 0.3));\n",
              "      fill: #FFFFFF;\n",
              "    }\n",
              "  </style>\n",
              "\n",
              "    <script>\n",
              "      const buttonEl =\n",
              "        document.querySelector('#df-21632acf-2edd-478e-bfc5-41ac5e1b9a7e button.colab-df-convert');\n",
              "      buttonEl.style.display =\n",
              "        google.colab.kernel.accessAllowed ? 'block' : 'none';\n",
              "\n",
              "      async function convertToInteractive(key) {\n",
              "        const element = document.querySelector('#df-21632acf-2edd-478e-bfc5-41ac5e1b9a7e');\n",
              "        const dataTable =\n",
              "          await google.colab.kernel.invokeFunction('convertToInteractive',\n",
              "                                                    [key], {});\n",
              "        if (!dataTable) return;\n",
              "\n",
              "        const docLinkHtml = 'Like what you see? Visit the ' +\n",
              "          '<a target=\"_blank\" href=https://colab.research.google.com/notebooks/data_table.ipynb>data table notebook</a>'\n",
              "          + ' to learn more about interactive tables.';\n",
              "        element.innerHTML = '';\n",
              "        dataTable['output_type'] = 'display_data';\n",
              "        await google.colab.output.renderOutput(dataTable, element);\n",
              "        const docLink = document.createElement('div');\n",
              "        docLink.innerHTML = docLinkHtml;\n",
              "        element.appendChild(docLink);\n",
              "      }\n",
              "    </script>\n",
              "  </div>\n",
              "\n",
              "\n",
              "<div id=\"df-9b3f4e01-f940-4b8e-ad00-c6b598fd3daf\">\n",
              "  <button class=\"colab-df-quickchart\" onclick=\"quickchart('df-9b3f4e01-f940-4b8e-ad00-c6b598fd3daf')\"\n",
              "            title=\"Suggest charts\"\n",
              "            style=\"display:none;\">\n",
              "\n",
              "<svg xmlns=\"http://www.w3.org/2000/svg\" height=\"24px\"viewBox=\"0 0 24 24\"\n",
              "     width=\"24px\">\n",
              "    <g>\n",
              "        <path d=\"M19 3H5c-1.1 0-2 .9-2 2v14c0 1.1.9 2 2 2h14c1.1 0 2-.9 2-2V5c0-1.1-.9-2-2-2zM9 17H7v-7h2v7zm4 0h-2V7h2v10zm4 0h-2v-4h2v4z\"/>\n",
              "    </g>\n",
              "</svg>\n",
              "  </button>\n",
              "\n",
              "<style>\n",
              "  .colab-df-quickchart {\n",
              "      --bg-color: #E8F0FE;\n",
              "      --fill-color: #1967D2;\n",
              "      --hover-bg-color: #E2EBFA;\n",
              "      --hover-fill-color: #174EA6;\n",
              "      --disabled-fill-color: #AAA;\n",
              "      --disabled-bg-color: #DDD;\n",
              "  }\n",
              "\n",
              "  [theme=dark] .colab-df-quickchart {\n",
              "      --bg-color: #3B4455;\n",
              "      --fill-color: #D2E3FC;\n",
              "      --hover-bg-color: #434B5C;\n",
              "      --hover-fill-color: #FFFFFF;\n",
              "      --disabled-bg-color: #3B4455;\n",
              "      --disabled-fill-color: #666;\n",
              "  }\n",
              "\n",
              "  .colab-df-quickchart {\n",
              "    background-color: var(--bg-color);\n",
              "    border: none;\n",
              "    border-radius: 50%;\n",
              "    cursor: pointer;\n",
              "    display: none;\n",
              "    fill: var(--fill-color);\n",
              "    height: 32px;\n",
              "    padding: 0;\n",
              "    width: 32px;\n",
              "  }\n",
              "\n",
              "  .colab-df-quickchart:hover {\n",
              "    background-color: var(--hover-bg-color);\n",
              "    box-shadow: 0 1px 2px rgba(60, 64, 67, 0.3), 0 1px 3px 1px rgba(60, 64, 67, 0.15);\n",
              "    fill: var(--button-hover-fill-color);\n",
              "  }\n",
              "\n",
              "  .colab-df-quickchart-complete:disabled,\n",
              "  .colab-df-quickchart-complete:disabled:hover {\n",
              "    background-color: var(--disabled-bg-color);\n",
              "    fill: var(--disabled-fill-color);\n",
              "    box-shadow: none;\n",
              "  }\n",
              "\n",
              "  .colab-df-spinner {\n",
              "    border: 2px solid var(--fill-color);\n",
              "    border-color: transparent;\n",
              "    border-bottom-color: var(--fill-color);\n",
              "    animation:\n",
              "      spin 1s steps(1) infinite;\n",
              "  }\n",
              "\n",
              "  @keyframes spin {\n",
              "    0% {\n",
              "      border-color: transparent;\n",
              "      border-bottom-color: var(--fill-color);\n",
              "      border-left-color: var(--fill-color);\n",
              "    }\n",
              "    20% {\n",
              "      border-color: transparent;\n",
              "      border-left-color: var(--fill-color);\n",
              "      border-top-color: var(--fill-color);\n",
              "    }\n",
              "    30% {\n",
              "      border-color: transparent;\n",
              "      border-left-color: var(--fill-color);\n",
              "      border-top-color: var(--fill-color);\n",
              "      border-right-color: var(--fill-color);\n",
              "    }\n",
              "    40% {\n",
              "      border-color: transparent;\n",
              "      border-right-color: var(--fill-color);\n",
              "      border-top-color: var(--fill-color);\n",
              "    }\n",
              "    60% {\n",
              "      border-color: transparent;\n",
              "      border-right-color: var(--fill-color);\n",
              "    }\n",
              "    80% {\n",
              "      border-color: transparent;\n",
              "      border-right-color: var(--fill-color);\n",
              "      border-bottom-color: var(--fill-color);\n",
              "    }\n",
              "    90% {\n",
              "      border-color: transparent;\n",
              "      border-bottom-color: var(--fill-color);\n",
              "    }\n",
              "  }\n",
              "</style>\n",
              "\n",
              "  <script>\n",
              "    async function quickchart(key) {\n",
              "      const quickchartButtonEl =\n",
              "        document.querySelector('#' + key + ' button');\n",
              "      quickchartButtonEl.disabled = true;  // To prevent multiple clicks.\n",
              "      quickchartButtonEl.classList.add('colab-df-spinner');\n",
              "      try {\n",
              "        const charts = await google.colab.kernel.invokeFunction(\n",
              "            'suggestCharts', [key], {});\n",
              "      } catch (error) {\n",
              "        console.error('Error during call to suggestCharts:', error);\n",
              "      }\n",
              "      quickchartButtonEl.classList.remove('colab-df-spinner');\n",
              "      quickchartButtonEl.classList.add('colab-df-quickchart-complete');\n",
              "    }\n",
              "    (() => {\n",
              "      let quickchartButtonEl =\n",
              "        document.querySelector('#df-9b3f4e01-f940-4b8e-ad00-c6b598fd3daf button');\n",
              "      quickchartButtonEl.style.display =\n",
              "        google.colab.kernel.accessAllowed ? 'block' : 'none';\n",
              "    })();\n",
              "  </script>\n",
              "</div>\n",
              "\n",
              "    </div>\n",
              "  </div>\n"
            ],
            "application/vnd.google.colaboratory.intrinsic+json": {
              "type": "dataframe",
              "summary": "{\n  \"name\": \"df\",\n  \"rows\": 8,\n  \"fields\": [\n    {\n      \"column\": \"id\",\n      \"properties\": {\n        \"dtype\": \"number\",\n        \"std\": 3376428474.4621024,\n        \"min\": 106720.0,\n        \"max\": 7316955734.0,\n        \"num_unique_values\": 8,\n        \"samples\": [\n          7311945717.99,\n          7313470009.5,\n          106720.0\n        ],\n        \"semantic_type\": \"\",\n        \"description\": \"\"\n      }\n    },\n    {\n      \"column\": \"price\",\n      \"properties\": {\n        \"dtype\": \"number\",\n        \"std\": 1068757553.1530724,\n        \"min\": 0.0,\n        \"max\": 3024942282.0,\n        \"num_unique_values\": 8,\n        \"samples\": [\n          105245.24,\n          13995.0,\n          106720.0\n        ],\n        \"semantic_type\": \"\",\n        \"description\": \"\"\n      }\n    },\n    {\n      \"column\": \"year\",\n      \"properties\": {\n        \"dtype\": \"number\",\n        \"std\": 36979.49560967219,\n        \"min\": 9.98,\n        \"max\": 106287.0,\n        \"num_unique_values\": 8,\n        \"samples\": [\n          2011.0,\n          2014.0,\n          106287.0\n        ],\n        \"semantic_type\": \"\",\n        \"description\": \"\"\n      }\n    },\n    {\n      \"column\": \"odometer\",\n      \"properties\": {\n        \"dtype\": \"number\",\n        \"std\": 3501491.3068715613,\n        \"min\": 0.0,\n        \"max\": 10000000.0,\n        \"num_unique_values\": 8,\n        \"samples\": [\n          97253.16,\n          83025.0,\n          105149.0\n        ],\n        \"semantic_type\": \"\",\n        \"description\": \"\"\n      }\n    },\n    {\n      \"column\": \"county\",\n      \"properties\": {\n        \"dtype\": \"number\",\n        \"std\": null,\n        \"min\": 0.0,\n        \"max\": 0.0,\n        \"num_unique_values\": 1,\n        \"samples\": [\n          0.0\n        ],\n        \"semantic_type\": \"\",\n        \"description\": \"\"\n      }\n    },\n    {\n      \"column\": \"lat\",\n      \"properties\": {\n        \"dtype\": \"number\",\n        \"std\": 37514.80082056947,\n        \"min\": -84.12,\n        \"max\": 106129.0,\n        \"num_unique_values\": 8,\n        \"samples\": [\n          36.3\n        ],\n        \"semantic_type\": \"\",\n        \"description\": \"\"\n      }\n    },\n    {\n      \"column\": \"long\",\n      \"properties\": {\n        \"dtype\": \"number\",\n        \"std\": 37542.06416373274,\n        \"min\": -158.6,\n        \"max\": 106129.0,\n        \"num_unique_values\": 8,\n        \"samples\": [\n          -106.01\n        ],\n        \"semantic_type\": \"\",\n        \"description\": \"\"\n      }\n    }\n  ]\n}"
            }
          },
          "metadata": {},
          "execution_count": 12
        }
      ]
    },
    {
      "cell_type": "markdown",
      "source": [
        "### -> Análisis\n",
        "26 variables, muchas se pueden descartar, y se evidencia problemas con valores nulos, además de que por falta de documentación clara, algunas columnas deberían revisarse mejor, además valores extremos que indican outliers en todas las variables que están codificadas como de tipo numérico"
      ],
      "metadata": {
        "id": "F-v6E1zkuMDf"
      }
    },
    {
      "cell_type": "markdown",
      "source": [
        "## - Identificar valores faltantes, duplicados y outliers.\n"
      ],
      "metadata": {
        "id": "jfaVhp2qlTQp"
      }
    },
    {
      "cell_type": "code",
      "source": [
        "# Calcular el porcentaje de nulos diferente de cero para cada columna\n",
        "porcentaje_nulos = ((df.isnull().sum() / len(df)) * 100).round(2)\n",
        "\n",
        "# Mostrar el porcentaje de nulos diferente de cero\n",
        "print(porcentaje_nulos[porcentaje_nulos != 0])"
      ],
      "metadata": {
        "id": "G-cfikSNh3Gw",
        "colab": {
          "base_uri": "https://localhost:8080/"
        },
        "outputId": "94b54578-1ae8-4379-9375-250f3cb36060"
      },
      "execution_count": null,
      "outputs": [
        {
          "output_type": "stream",
          "name": "stdout",
          "text": [
            "year              0.41\n",
            "manufacturer      4.42\n",
            "model             1.29\n",
            "condition        38.64\n",
            "cylinders        40.53\n",
            "fuel              0.59\n",
            "odometer          1.47\n",
            "title_status      2.21\n",
            "transmission      0.55\n",
            "VIN              36.12\n",
            "drive            30.58\n",
            "size             71.63\n",
            "type             19.54\n",
            "paint_color      29.60\n",
            "image_url         0.04\n",
            "description       0.04\n",
            "county          100.00\n",
            "lat               0.55\n",
            "long              0.55\n",
            "posting_date      0.04\n",
            "dtype: float64\n"
          ]
        }
      ]
    },
    {
      "cell_type": "code",
      "source": [
        "df.duplicated().sum()"
      ],
      "metadata": {
        "id": "7qzA6VTyfu_i",
        "colab": {
          "base_uri": "https://localhost:8080/"
        },
        "outputId": "c79f1532-841b-4b60-98b0-f224e420e18c"
      },
      "execution_count": null,
      "outputs": [
        {
          "output_type": "execute_result",
          "data": {
            "text/plain": [
              "0"
            ]
          },
          "metadata": {},
          "execution_count": 14
        }
      ]
    },
    {
      "cell_type": "code",
      "source": [
        "# Regla simple del IQR para una columna\n",
        "def check_outliers_simple(df, columna):\n",
        "    Q1 = df[columna].quantile(0.25)\n",
        "    Q3 = df[columna].quantile(0.75)\n",
        "    IQR = Q3 - Q1\n",
        "\n",
        "    limite_inferior = Q1 - 1.5 * IQR\n",
        "    limite_superior = Q3 + 1.5 * IQR\n",
        "\n",
        "    outliers = df[(df[columna] < limite_inferior) | (df[columna] > limite_superior)][columna]\n",
        "\n",
        "    print(f\"\\nAnálisis de outliers para {columna}:\")\n",
        "    print(f\"Límite inferior: {limite_inferior}\")\n",
        "    print(f\"Límite superior: {limite_superior}\")\n",
        "    print(f\"Número de outliers: {len(outliers)}\")\n",
        "    print(f\"Porcentaje de outliers: {(len(outliers)/len(df))*100:.2f}%\")"
      ],
      "metadata": {
        "id": "X0iL53lPxBwI"
      },
      "execution_count": null,
      "outputs": []
    },
    {
      "cell_type": "code",
      "source": [
        "# Análisis rápido del precio\n",
        "check_outliers_simple(df, 'price')\n",
        "\n",
        "# Ver algunos precios extremos\n",
        "print(\"\\nPrecios más altos:\")\n",
        "print(df['price'].nlargest(10))"
      ],
      "metadata": {
        "colab": {
          "base_uri": "https://localhost:8080/"
        },
        "id": "U7AhTOUSxcp-",
        "outputId": "ee647b81-ed4c-4869-cbdc-9c15f3b7017d"
      },
      "execution_count": null,
      "outputs": [
        {
          "output_type": "stream",
          "name": "stdout",
          "text": [
            "\n",
            "Análisis de outliers para price:\n",
            "Límite inferior: -23992.5\n",
            "Límite superior: 55979.5\n",
            "Número de outliers: 2489\n",
            "Porcentaje de outliers: 2.33%\n",
            "\n",
            "Precios más altos:\n",
            "91576     3024942282\n",
            "37410     3009548743\n",
            "29386     1111111111\n",
            "37409     1111111111\n",
            "280        987654321\n",
            "1838        99999999\n",
            "105843       6995495\n",
            "68935        2000000\n",
            "26075        1111111\n",
            "83367        1000000\n",
            "Name: price, dtype: int64\n"
          ]
        }
      ]
    },
    {
      "cell_type": "code",
      "source": [
        "# Análisis rápido del precio\n",
        "check_outliers_simple(df, 'odometer')\n",
        "\n",
        "# Ver algunos precios extremos\n",
        "print(\"\\nTop 10 más altos:\")\n",
        "print(df['odometer'].nlargest(10))\n",
        "print(\"\\nTop 10 más bajos:\")\n",
        "print(df['odometer'].nsmallest(10))"
      ],
      "metadata": {
        "colab": {
          "base_uri": "https://localhost:8080/"
        },
        "id": "VVDxS6DWxBs9",
        "outputId": "aabcf5f9-976e-4cb0-ad95-4482667961fb"
      },
      "execution_count": null,
      "outputs": [
        {
          "output_type": "stream",
          "name": "stdout",
          "text": [
            "\n",
            "Análisis de outliers para odometer:\n",
            "Límite inferior: -102152.5\n",
            "Límite superior: 269291.5\n",
            "Número de outliers: 1266\n",
            "Porcentaje de outliers: 1.19%\n",
            "\n",
            "Top 10 más altos:\n",
            "9218      10000000.0\n",
            "23100     10000000.0\n",
            "28738     10000000.0\n",
            "34717     10000000.0\n",
            "44280     10000000.0\n",
            "67001     10000000.0\n",
            "67003     10000000.0\n",
            "81327     10000000.0\n",
            "103798    10000000.0\n",
            "105059    10000000.0\n",
            "Name: odometer, dtype: float64\n",
            "\n",
            "Top 10 más bajos:\n",
            "538     0.0\n",
            "563     0.0\n",
            "694     0.0\n",
            "889     0.0\n",
            "985     0.0\n",
            "1192    0.0\n",
            "1195    0.0\n",
            "1199    0.0\n",
            "1373    0.0\n",
            "1720    0.0\n",
            "Name: odometer, dtype: float64\n"
          ]
        }
      ]
    },
    {
      "cell_type": "markdown",
      "source": [
        "### -> Análisis\n",
        "Hay columnas con porcentajes de nulos demasiado altos, por lo que, habría que se deberían revisar el eliminar algunas columnas, y revisar si quitando nulos o imputando, se puede dar otro tipo de información,\n",
        "No hay duplicados\n",
        "Si hay outliers"
      ],
      "metadata": {
        "id": "_GB_nPNNv894"
      }
    },
    {
      "cell_type": "markdown",
      "source": [
        "# 2) Limpieza y Preprocesamiento:\n",
        "\n"
      ],
      "metadata": {
        "id": "--8BaZAlUyyL"
      }
    },
    {
      "cell_type": "markdown",
      "source": [
        "## - Manejar valores faltantes.\n"
      ],
      "metadata": {
        "id": "lbLgftgGliOS"
      }
    },
    {
      "cell_type": "code",
      "source": [
        "# Eliminar columnas con un porcentaje de valores nulos superior a un umbral\n",
        "umbral = 30  # Porcentaje de nulos\n",
        "columnas_a_eliminar = porcentaje_nulos[porcentaje_nulos > umbral].index\n",
        "df = df.drop(columnas_a_eliminar, axis=1)\n",
        "\n",
        "# Mostrar las columnas restantes\n",
        "df.columns"
      ],
      "metadata": {
        "id": "jPoB0dBufuWZ",
        "colab": {
          "base_uri": "https://localhost:8080/"
        },
        "outputId": "e5dc9632-db32-4573-a330-0bb2188b3f04"
      },
      "execution_count": null,
      "outputs": [
        {
          "output_type": "execute_result",
          "data": {
            "text/plain": [
              "Index(['id', 'url', 'region', 'region_url', 'price', 'year', 'manufacturer',\n",
              "       'model', 'fuel', 'odometer', 'title_status', 'transmission', 'type',\n",
              "       'paint_color', 'image_url', 'description', 'state', 'lat', 'long',\n",
              "       'posting_date'],\n",
              "      dtype='object')"
            ]
          },
          "metadata": {},
          "execution_count": 19
        }
      ]
    },
    {
      "cell_type": "code",
      "source": [
        "# Imputar los valores nulos de la columna 'type' con 'unknown'\n",
        "df['type'].fillna('unknown', inplace=True)"
      ],
      "metadata": {
        "id": "QbAEeoCjfuOG",
        "colab": {
          "base_uri": "https://localhost:8080/"
        },
        "outputId": "1d6b64fa-f5e6-4269-a586-f9dba4b0364e"
      },
      "execution_count": null,
      "outputs": [
        {
          "output_type": "stream",
          "name": "stderr",
          "text": [
            "<ipython-input-20-8a07608cbc48>:2: FutureWarning: A value is trying to be set on a copy of a DataFrame or Series through chained assignment using an inplace method.\n",
            "The behavior will change in pandas 3.0. This inplace method will never work because the intermediate object on which we are setting values always behaves as a copy.\n",
            "\n",
            "For example, when doing 'df[col].method(value, inplace=True)', try using 'df.method({col: value}, inplace=True)' or df[col] = df[col].method(value) instead, to perform the operation inplace on the original object.\n",
            "\n",
            "\n",
            "  df['type'].fillna('unknown', inplace=True)\n"
          ]
        }
      ]
    },
    {
      "cell_type": "code",
      "source": [
        "# Eliminar filas con al menos un valor nulo en cualquier columna\n",
        "df.dropna(inplace=True)"
      ],
      "metadata": {
        "id": "RlqN0JuzfuLe"
      },
      "execution_count": null,
      "outputs": []
    },
    {
      "cell_type": "code",
      "source": [
        "df.info()"
      ],
      "metadata": {
        "id": "SOEyDwrugJkg",
        "colab": {
          "base_uri": "https://localhost:8080/"
        },
        "outputId": "96e16941-281b-4b52-c8f3-f9cac17979bb"
      },
      "execution_count": null,
      "outputs": [
        {
          "output_type": "stream",
          "name": "stdout",
          "text": [
            "<class 'pandas.core.frame.DataFrame'>\n",
            "Index: 69166 entries, 27 to 106718\n",
            "Data columns (total 20 columns):\n",
            " #   Column        Non-Null Count  Dtype  \n",
            "---  ------        --------------  -----  \n",
            " 0   id            69166 non-null  int64  \n",
            " 1   url           69166 non-null  object \n",
            " 2   region        69166 non-null  object \n",
            " 3   region_url    69166 non-null  object \n",
            " 4   price         69166 non-null  int64  \n",
            " 5   year          69166 non-null  float64\n",
            " 6   manufacturer  69166 non-null  object \n",
            " 7   model         69166 non-null  object \n",
            " 8   fuel          69166 non-null  object \n",
            " 9   odometer      69166 non-null  float64\n",
            " 10  title_status  69166 non-null  object \n",
            " 11  transmission  69166 non-null  object \n",
            " 12  type          69166 non-null  object \n",
            " 13  paint_color   69166 non-null  object \n",
            " 14  image_url     69166 non-null  object \n",
            " 15  description   69166 non-null  object \n",
            " 16  state         69166 non-null  object \n",
            " 17  lat           69166 non-null  float64\n",
            " 18  long          69166 non-null  float64\n",
            " 19  posting_date  69166 non-null  object \n",
            "dtypes: float64(4), int64(2), object(14)\n",
            "memory usage: 11.1+ MB\n"
          ]
        }
      ]
    },
    {
      "cell_type": "markdown",
      "source": [
        "### -> Análisis\n",
        "Se eliminaron columnas con más del 30% de datos nulos, al ser un dataset con tantas observaciones, posiblemente el perder estas columnas no afecte de manera significativa la capacidad predictiva de los modelos a correr, además, el imputar de alguna manera más del 30% de los datos (o incluso 70 o 100%) puede generar ruido e incluso sesgos en los datos, además algunas pueden no ser cruciales para el análisis principal\n",
        "\n",
        "    -> Predicción de precios de vehículos usados\n",
        "\n",
        "En el caso de columnas menor al 30% se imputó con la revisón de que al ser type, se pondría desconocido, y revisar como funcionan los modelos con este valor, sino, igual en la selección de características esta variable saldría, depende de correlaciones y otros análisis\n",
        "\n",
        "Para columnas con <5% de datos nulos, se decidió eliminar y revisar la pérdida en registros del dataset, quedando el 89% de los registros del dataset original pasando de 26 a 19 columnas"
      ],
      "metadata": {
        "id": "d48ZfH2TyZI4"
      }
    },
    {
      "cell_type": "markdown",
      "source": [
        "## - Eliminar duplicados.\n"
      ],
      "metadata": {
        "id": "ZvXcX1eslkcj"
      }
    },
    {
      "cell_type": "code",
      "source": [
        "df.duplicated().sum()"
      ],
      "metadata": {
        "id": "U4FyoYbJlj5o",
        "colab": {
          "base_uri": "https://localhost:8080/"
        },
        "outputId": "757f250f-03e6-495f-9067-8463a3028e0c"
      },
      "execution_count": null,
      "outputs": [
        {
          "output_type": "execute_result",
          "data": {
            "text/plain": [
              "0"
            ]
          },
          "metadata": {},
          "execution_count": 23
        }
      ]
    },
    {
      "cell_type": "markdown",
      "source": [
        "### -> Análisis\n",
        "No hay duplicados a eliminar"
      ],
      "metadata": {
        "id": "qhOgHfjRlkJk"
      }
    },
    {
      "cell_type": "markdown",
      "source": [
        "## - Corregir inconsistencias en los datos categóricos.\n"
      ],
      "metadata": {
        "id": "KpzagXWWlmPV"
      }
    },
    {
      "cell_type": "code",
      "source": [
        "# Mostrar todos los valores unicos de las columnas\n",
        "def show_unique_values(df):\n",
        "    for column in df.columns:\n",
        "        unique_values = df[column].unique()\n",
        "        print(f\"Column: {column}\")\n",
        "        print(f\"Unique values: {unique_values}\")\n",
        "        print(\"-\" * 20)\n",
        "\n",
        "show_unique_values(df)"
      ],
      "metadata": {
        "colab": {
          "base_uri": "https://localhost:8080/"
        },
        "id": "h9stV3ij4n9A",
        "outputId": "ac86d6db-6c3e-4876-cc68-6eddf6968d51"
      },
      "execution_count": null,
      "outputs": [
        {
          "output_type": "stream",
          "name": "stdout",
          "text": [
            "Column: id\n",
            "Unique values: [7316814884 7316814758 7316814989 ... 7312385970 7312384300 7312354452]\n",
            "--------------------\n",
            "Column: url\n",
            "Unique values: ['https://auburn.craigslist.org/ctd/d/auburn-university-2014-gmc-sierra-1500/7316814884.html'\n",
            " 'https://auburn.craigslist.org/ctd/d/auburn-university-2010-chevy-chevrolet/7316814758.html'\n",
            " 'https://auburn.craigslist.org/ctd/d/auburn-university-2020-chevy-chevrolet/7316814989.html'\n",
            " ...\n",
            " 'https://orlando.craigslist.org/ctd/d/orlando-2018-kia-soul-wagon-4d-wagon/7312385970.html'\n",
            " 'https://orlando.craigslist.org/ctd/d/orlando-2018-mercedes-maybach-s560-with/7312384300.html'\n",
            " 'https://orlando.craigslist.org/ctd/d/kissimmee-2015-toyota-corolla-plus-6mt/7312354452.html']\n",
            "--------------------\n",
            "Column: region\n",
            "Unique values: ['auburn' 'birmingham' 'dothan' 'florence / muscle shoals'\n",
            " 'gadsden-anniston' 'huntsville / decatur' 'mobile' 'montgomery'\n",
            " 'tuscaloosa' 'anchorage / mat-su' 'fairbanks' 'kenai peninsula'\n",
            " 'southeast alaska' 'flagstaff / sedona' 'mohave county' 'phoenix'\n",
            " 'prescott' 'show low' 'sierra vista' 'tucson' 'yuma' 'fayetteville'\n",
            " 'fort smith' 'jonesboro' 'little rock' 'texarkana' 'bakersfield' 'chico'\n",
            " 'fresno / madera' 'gold country' 'hanford-corcoran' 'humboldt county'\n",
            " 'imperial county' 'inland empire' 'los angeles' 'mendocino county'\n",
            " 'merced' 'modesto' 'monterey bay' 'orange county' 'palm springs'\n",
            " 'redding' 'reno / tahoe' 'sacramento' 'san diego' 'san luis obispo'\n",
            " 'santa barbara' 'santa maria' 'SF bay area' 'siskiyou county' 'stockton'\n",
            " 'susanville' 'ventura county' 'visalia-tulare' 'yuba-sutter' 'boulder'\n",
            " 'colorado springs' 'denver' 'eastern CO' 'fort collins / north CO'\n",
            " 'high rockies' 'pueblo' 'western slope' 'eastern CT' 'hartford'\n",
            " 'new haven' 'northwest CT' 'washington, DC' 'delaware' 'daytona beach'\n",
            " 'florida keys' 'ft myers / SW florida' 'gainesville' 'heartland florida'\n",
            " 'jacksonville' 'lakeland' 'north central FL' 'ocala' 'okaloosa / walton'\n",
            " 'orlando']\n",
            "--------------------\n",
            "Column: region_url\n",
            "Unique values: ['https://auburn.craigslist.org' 'https://bham.craigslist.org'\n",
            " 'https://dothan.craigslist.org' 'https://shoals.craigslist.org'\n",
            " 'https://gadsden.craigslist.org' 'https://huntsville.craigslist.org'\n",
            " 'https://mobile.craigslist.org' 'https://montgomery.craigslist.org'\n",
            " 'https://tuscaloosa.craigslist.org' 'https://anchorage.craigslist.org'\n",
            " 'https://fairbanks.craigslist.org' 'https://kenai.craigslist.org'\n",
            " 'https://juneau.craigslist.org' 'https://flagstaff.craigslist.org'\n",
            " 'https://mohave.craigslist.org' 'https://phoenix.craigslist.org'\n",
            " 'https://prescott.craigslist.org' 'https://showlow.craigslist.org'\n",
            " 'https://sierravista.craigslist.org' 'https://tucson.craigslist.org'\n",
            " 'https://yuma.craigslist.org' 'https://fayar.craigslist.org'\n",
            " 'https://fortsmith.craigslist.org' 'https://jonesboro.craigslist.org'\n",
            " 'https://littlerock.craigslist.org' 'https://texarkana.craigslist.org'\n",
            " 'https://bakersfield.craigslist.org' 'https://chico.craigslist.org'\n",
            " 'https://fresno.craigslist.org' 'https://goldcountry.craigslist.org'\n",
            " 'https://hanford.craigslist.org' 'https://humboldt.craigslist.org'\n",
            " 'https://imperial.craigslist.org' 'https://inlandempire.craigslist.org'\n",
            " 'https://losangeles.craigslist.org' 'https://mendocino.craigslist.org'\n",
            " 'https://merced.craigslist.org' 'https://modesto.craigslist.org'\n",
            " 'https://monterey.craigslist.org' 'https://orangecounty.craigslist.org'\n",
            " 'https://palmsprings.craigslist.org' 'https://redding.craigslist.org'\n",
            " 'https://reno.craigslist.org' 'https://sacramento.craigslist.org'\n",
            " 'https://sandiego.craigslist.org' 'https://slo.craigslist.org'\n",
            " 'https://santabarbara.craigslist.org' 'https://santamaria.craigslist.org'\n",
            " 'https://sfbay.craigslist.org' 'https://siskiyou.craigslist.org'\n",
            " 'https://stockton.craigslist.org' 'https://susanville.craigslist.org'\n",
            " 'https://ventura.craigslist.org' 'https://visalia.craigslist.org'\n",
            " 'https://yubasutter.craigslist.org' 'https://boulder.craigslist.org'\n",
            " 'https://cosprings.craigslist.org' 'https://denver.craigslist.org'\n",
            " 'https://eastco.craigslist.org' 'https://fortcollins.craigslist.org'\n",
            " 'https://rockies.craigslist.org' 'https://pueblo.craigslist.org'\n",
            " 'https://westslope.craigslist.org' 'https://newlondon.craigslist.org'\n",
            " 'https://hartford.craigslist.org' 'https://newhaven.craigslist.org'\n",
            " 'https://nwct.craigslist.org' 'https://washingtondc.craigslist.org'\n",
            " 'https://delaware.craigslist.org' 'https://daytona.craigslist.org'\n",
            " 'https://keys.craigslist.org' 'https://fortmyers.craigslist.org'\n",
            " 'https://gainesville.craigslist.org' 'https://cfl.craigslist.org'\n",
            " 'https://jacksonville.craigslist.org' 'https://lakeland.craigslist.org'\n",
            " 'https://lakecity.craigslist.org' 'https://ocala.craigslist.org'\n",
            " 'https://okaloosa.craigslist.org' 'https://orlando.craigslist.org']\n",
            "--------------------\n",
            "Column: price\n",
            "Unique values: [ 33590  22590  39590 ...  26994  21660 129999]\n",
            "--------------------\n",
            "Column: year\n",
            "Unique values: [2014. 2010. 2020. 2017. 2013. 2012. 2016. 2019. 2011. 2018. 2004. 2015.\n",
            " 2001. 2003. 2008. 2007. 2006. 2005. 2009. 1998. 2002. 1995. 1978. 1979.\n",
            " 1974. 1996. 2000. 1955. 1999. 1997. 1972. 2021. 1994. 1988. 1968. 1984.\n",
            " 1986. 1989. 1992. 1933. 1958. 1976. 1991. 1953. 1963. 1993. 1990. 1982.\n",
            " 1948. 1951. 1936. 1966. 1967. 1981. 1947. 1962. 1973. 1975. 1964. 1977.\n",
            " 1971. 1980. 1985. 1946. 1987. 1970. 1957. 1930. 1969. 1950. 1959. 1965.\n",
            " 1922. 1928. 1952. 1960. 1929. 1932. 1956. 1924. 1927. 1939. 1983. 1923.\n",
            " 1937. 1934. 1940. 1961. 1918. 1935. 1954. 1938. 1949. 1900. 1931. 2022.\n",
            " 1926. 1942. 1913. 1941.]\n",
            "--------------------\n",
            "Column: manufacturer\n",
            "Unique values: ['gmc' 'chevrolet' 'toyota' 'ford' 'jeep' 'nissan' 'ram' 'cadillac'\n",
            " 'honda' 'dodge' 'lexus' 'jaguar' 'buick' 'chrysler' 'volvo' 'infiniti'\n",
            " 'lincoln' 'acura' 'hyundai' 'mercedes-benz' 'audi' 'bmw' 'mitsubishi'\n",
            " 'subaru' 'alfa-romeo' 'volkswagen' 'mazda' 'porsche' 'kia' 'ferrari'\n",
            " 'mini' 'pontiac' 'fiat' 'rover' 'tesla' 'saturn' 'mercury'\n",
            " 'harley-davidson' 'datsun' 'aston-martin' 'land rover']\n",
            "--------------------\n",
            "Column: model\n",
            "Unique values: ['sierra 1500 crew cab slt' 'silverado 1500' 'silverado 1500 crew' ...\n",
            " 'gl gl550 4matic' '550i f10' 'maybach s560']\n",
            "--------------------\n",
            "Column: fuel\n",
            "Unique values: ['gas' 'other' 'diesel' 'hybrid' 'electric']\n",
            "--------------------\n",
            "Column: odometer\n",
            "Unique values: [ 57923.  71229.  19160. ... 158825.  21641.   1692.]\n",
            "--------------------\n",
            "Column: title_status\n",
            "Unique values: ['clean' 'rebuilt' 'lien' 'salvage' 'missing' 'parts only']\n",
            "--------------------\n",
            "Column: transmission\n",
            "Unique values: ['other' 'automatic' 'manual']\n",
            "--------------------\n",
            "Column: type\n",
            "Unique values: ['pickup' 'truck' 'other' 'coupe' 'SUV' 'hatchback' 'mini-van' 'sedan'\n",
            " 'offroad' 'van' 'convertible' 'unknown' 'wagon' 'bus']\n",
            "--------------------\n",
            "Column: paint_color\n",
            "Unique values: ['white' 'blue' 'red' 'black' 'silver' 'grey' 'brown' 'yellow' 'orange'\n",
            " 'green' 'custom' 'purple']\n",
            "--------------------\n",
            "Column: image_url\n",
            "Unique values: ['https://images.craigslist.org/00R0R_lwWjXSEWNa7z_0x20oM_600x450.jpg'\n",
            " 'https://images.craigslist.org/01212_jjirIWa0y02z_0gw0co_600x450.jpg'\n",
            " 'https://images.craigslist.org/00x0x_1y9kIOzGCFaz_0gw0co_600x450.jpg' ...\n",
            " 'https://images.craigslist.org/00q0q_beTva2Urczsz_0gw0co_600x450.jpg'\n",
            " 'https://images.craigslist.org/00f0f_9oFS7EL78dIz_0gw0co_600x450.jpg'\n",
            " 'https://images.craigslist.org/00u0u_fKyDNpMeQRXz_0CI0t2_600x450.jpg']\n",
            "--------------------\n",
            "Column: description\n",
            "Unique values: [\"Carvana is the safer way to buy a car During these uncertain times, Carvana is dedicated to ensuring safety for all of our customers. In addition to our 100% online shopping and selling experience that allows all customers to buy and trade their cars without ever leaving the safety of their house, we’re providing touchless delivery that make all aspects of our process even safer. Now, you can get the car you want, and trade in your old one, while avoiding person-to-person contact with our friendly advocates. There are some things that can’t be put off. And if buying a car is one of them, know that we’re doing everything we can to keep you keep moving while continuing to put your health safety, and happiness first. Vehicle Stock# 2000909557📱 Want to instantly check this car’s availability? Call us at  334-758-9176Just text that stock number to 855-976-4304 or head to http://www.carvanaauto.com/7171237-74502 and plug it into the search bar!Get PRE-QUALIFIED for your auto loan in 2 minutes - no hit to your credit:http://finance.carvanaauto.com/7171237-74502Looking for more cars like this one? We have 63 GMC Sierra 1500 Crew Cab in stock for as low as $23990!Why buy with Carvana? We have one standard: the highest. Take a look at just some of the qualifications all of our cars must meet before we list them.150-POINT INSPECTION: We put each vehicle through a 150-point inspection so that you can be 100% confident in its quality and safety. See everything that goes into our inspections at:http://www.carvanaauto.com/7171237-74502NO REPORTED ACCIDENTS: We do not sell cars that have been in a reported accident or have a frame or structural damage.7 DAY TEST OWN MONEY BACK GUARANTEE: Every Carvana car comes with a 7-day money-back guarantee. Why? It takes more than 15-minutes to make a decision on your next car. Learn more about test owning at http://about.carvanaauto.comFLEXIBLE FINANCING, TRADE INS WELCOME: We’re all about real-time financing without the middle man. Need financing? Pick a combination of down and monthly payments that work for you. Have a trade-in? We’ll give you a value in 2 minutes. Check out everything about our financing at:http://finance.carvanaauto.com/7171237-74502COST SAVINGS: Carvana's business model has fewer expenses and no bloated fees compared to your local dealership. See how much we can save you at http://about.carvanaauto.comPREMIUM DETAIL: We go the extra mile so that your car is looking as good as new. There are a lot of specifics that we won’t list here (we wash, clean, buff, paint, polish, wax, seal), but trust us that when your car arrives, it’s going to look sweet.Vehicle Info for Stock# 2000909557Trim: SLT Pickup 4D 5 3/4 ft pickupMileage: 57k milesExterior Color: WhiteInterior Color: Lt. BrownEngine: EcoTec3 5.3L Flex Fuel V8 355hp 383ft. lbs.Drive: Two Wheel DriveTransmission: VIN: 3GTP1VEC4EG551563Dealer Disclosure: Price excludes tax, title, and registration (which we handle for you).Disclaimer: You agree that by providing your phone number, Carvana, or Carvana’s authorized representatives*, may call and/or send text messages (including by using equipment to automatically dial telephone numbers) about your interest in a purchase, for marketing/sales purposes, or for any other servicing or informational purpose related to your account. You do not have to consent to receiving calls or texts to purchase from Carvana. While every reasonable effort is made to ensure the accuracy of the information for this GMC Sierra 1500 Crew Cab, we are not responsible for any errors or omissions contained in this ad. Please verify any information in question with Carvana at 334-758-9176*Including, but not limited to, Bridgecrest Credit Company, GO Financial and SilverRock Automotive.*GMC* *Sierra* *1500* *Crew* *Cab* *Base* *GMC* *Sierra* *1500* *Crew* *Cab* *SLE* *GMC* *Sierra* *1500* *Crew* *Cab* *SLT* *GMC* *Sierra* *1500* *Crew* *Cab* *Denali* *GMC* *Sierra* *1500* *Crew* *Cab* *Work* *Truck* *4x2* *GMC* *Sierra* *1500* *Crew* *Cab* *4x4* *Crew* *Cab* *GMC* *Sierra* *1500* *Crew* *Cab* *Regular* *Cab* *Extended* *Cab* *Truck* 2022  2021  2020  2019  2018  2017  2016  2015  2014  2013  2012  2011  2010  2009  2008  2007  2006  2005  2004  2003  2002  2001  2000   22  21    19  18  17  16  15  14  13  12  11  10  09  08  07  06  05  04  03  02  01  00\"\n",
            " \"Carvana is the safer way to buy a car During these uncertain times, Carvana is dedicated to ensuring safety for all of our customers. In addition to our 100% online shopping and selling experience that allows all customers to buy and trade their cars without ever leaving the safety of their house, we’re providing touchless delivery that make all aspects of our process even safer. Now, you can get the car you want, and trade in your old one, while avoiding person-to-person contact with our friendly advocates. There are some things that can’t be put off. And if buying a car is one of them, know that we’re doing everything we can to keep you keep moving while continuing to put your health safety, and happiness first. Vehicle Stock# 2000977114📱 Want to instantly check this car’s availability? Call us at  334-758-9176Just text that stock number to 855-976-4304 or head to http://www.carvanaauto.com/7163375-74502 and plug it into the search bar!Get PRE-QUALIFIED for your auto loan in 2 minutes - no hit to your credit:http://finance.carvanaauto.com/7163375-74502Looking for more cars like this one? We have 10 Chevrolet Silverado 1500 Extended Cab in stock for as low as $20990!Why buy with Carvana? We have one standard: the highest. Take a look at just some of the qualifications all of our cars must meet before we list them.150-POINT INSPECTION: We put each vehicle through a 150-point inspection so that you can be 100% confident in its quality and safety. See everything that goes into our inspections at:http://www.carvanaauto.com/7163375-74502NO REPORTED ACCIDENTS: We do not sell cars that have been in a reported accident or have a frame or structural damage.7 DAY TEST OWN MONEY BACK GUARANTEE: Every Carvana car comes with a 7-day money-back guarantee. Why? It takes more than 15-minutes to make a decision on your next car. Learn more about test owning at http://about.carvanaauto.comFLEXIBLE FINANCING, TRADE INS WELCOME: We’re all about real-time financing without the middle man. Need financing? Pick a combination of down and monthly payments that work for you. Have a trade-in? We’ll give you a value in 2 minutes. Check out everything about our financing at:http://finance.carvanaauto.com/7163375-74502COST SAVINGS: Carvana's business model has fewer expenses and no bloated fees compared to your local dealership. See how much we can save you at http://about.carvanaauto.comPREMIUM DETAIL: We go the extra mile so that your car is looking as good as new. There are a lot of specifics that we won’t list here (we wash, clean, buff, paint, polish, wax, seal), but trust us that when your car arrives, it’s going to look sweet.Vehicle Info for Stock# 2000977114Trim: LT Pickup 4D 6 1/2 ft pickupMileage: 71k milesExterior Color: BlueInterior Color: BlackEngine: Vortec 5.3L Flex Fuel V8 315hp 335ft. lbs.Drive: Two Wheel DriveTransmission: VIN: 1GCSCSE06AZ123805Dealer Disclosure: Price excludes tax, title, and registration (which we handle for you).Disclaimer: You agree that by providing your phone number, Carvana, or Carvana’s authorized representatives*, may call and/or send text messages (including by using equipment to automatically dial telephone numbers) about your interest in a purchase, for marketing/sales purposes, or for any other servicing or informational purpose related to your account. You do not have to consent to receiving calls or texts to purchase from Carvana. While every reasonable effort is made to ensure the accuracy of the information for this Chevrolet Silverado 1500 Extended Cab, we are not responsible for any errors or omissions contained in this ad. Please verify any information in question with Carvana at 334-758-9176*Including, but not limited to, Bridgecrest Credit Company, GO Financial and SilverRock Automotive.*Chevrolet* *Silverado* *1500* *Extended* *Cab* *Chevy* *Chevrolet* *Silverado* *1500* *Extended* *Cab* *HD* *Crew* *Cab* *LS* *Pickup* *Chevrolet* *Silverado* *1500* *Extended* *Cab* *LS* *Chevrolet* *Silverado* *1500* *Extended* *Cab* *LT* *Chevrolet* *Silverado* *1500* *Extended* *Cab* *LTZ* *Chevrolet* *Silverado* *1500* *Extended* *Cab* *LT1* *Chevrolet* *Silverado* *1500* *Extended* *Cab* *Crew* *Cab* *Chevrolet* *Silverado* *1500* *Extended* *Cab* *XtraCab* *Chevrolet* *Silverado* *1500* *Extended* *Cab* *2500HD* *Classic* *Pick* *up* 2022  2021  2020  2019  2018  2017  2016  2015  2014  2013  2012  2011  2010  2009  2008  2007  2006  2005  2004  2003  2002  2001  2000   22  21    19  18  17  16  15  14  13  12  11  10  09  08  07  06  05  04  03  02  01  00\"\n",
            " \"Carvana is the safer way to buy a car During these uncertain times, Carvana is dedicated to ensuring safety for all of our customers. In addition to our 100% online shopping and selling experience that allows all customers to buy and trade their cars without ever leaving the safety of their house, we’re providing touchless delivery that make all aspects of our process even safer. Now, you can get the car you want, and trade in your old one, while avoiding person-to-person contact with our friendly advocates. There are some things that can’t be put off. And if buying a car is one of them, know that we’re doing everything we can to keep you keep moving while continuing to put your health safety, and happiness first. Vehicle Stock# 2000948059📱 Want to instantly check this car’s availability? Call us at  334-758-9176Just text that stock number to 855-976-4304 or head to http://www.carvanaauto.com/6965441-74502 and plug it into the search bar!Get PRE-QUALIFIED for your auto loan in 2 minutes - no hit to your credit:http://finance.carvanaauto.com/6965441-74502Looking for more cars like this one? We have 144 Chevrolet Silverado 1500 Crew Cab in stock for as low as $20990!Why buy with Carvana? We have one standard: the highest. Take a look at just some of the qualifications all of our cars must meet before we list them.150-POINT INSPECTION: We put each vehicle through a 150-point inspection so that you can be 100% confident in its quality and safety. See everything that goes into our inspections at:http://www.carvanaauto.com/6965441-74502NO REPORTED ACCIDENTS: We do not sell cars that have been in a reported accident or have a frame or structural damage.7 DAY TEST OWN MONEY BACK GUARANTEE: Every Carvana car comes with a 7-day money-back guarantee. Why? It takes more than 15-minutes to make a decision on your next car. Learn more about test owning at http://about.carvanaauto.comFLEXIBLE FINANCING, TRADE INS WELCOME: We’re all about real-time financing without the middle man. Need financing? Pick a combination of down and monthly payments that work for you. Have a trade-in? We’ll give you a value in 2 minutes. Check out everything about our financing at:http://finance.carvanaauto.com/6965441-74502COST SAVINGS: Carvana's business model has fewer expenses and no bloated fees compared to your local dealership. See how much we can save you at http://about.carvanaauto.comPREMIUM DETAIL: We go the extra mile so that your car is looking as good as new. There are a lot of specifics that we won’t list here (we wash, clean, buff, paint, polish, wax, seal), but trust us that when your car arrives, it’s going to look sweet.Vehicle Info for Stock# 2000948059Trim: LT Pickup 4D 5 3/4 ft pickupMileage: 19k milesExterior Color: RedInterior Color: BLACKEngine: EcoTec3 5.3L V8 355hp 383ft. lbs.Drive: Two Wheel DriveTransmission: VIN: 3GCPWCED5LG130317Dealer Disclosure: Price excludes tax, title, and registration (which we handle for you).Disclaimer: You agree that by providing your phone number, Carvana, or Carvana’s authorized representatives*, may call and/or send text messages (including by using equipment to automatically dial telephone numbers) about your interest in a purchase, for marketing/sales purposes, or for any other servicing or informational purpose related to your account. You do not have to consent to receiving calls or texts to purchase from Carvana. While every reasonable effort is made to ensure the accuracy of the information for this Chevrolet Silverado 1500 Crew Cab, we are not responsible for any errors or omissions contained in this ad. Please verify any information in question with Carvana at 334-758-9176*Including, but not limited to, Bridgecrest Credit Company, GO Financial and SilverRock Automotive.*Chevrolet* *Silverado* *1500* *Crew* *Cab* *Chevy* *Chevrolet* *Silverado* *1500* *Crew* *Cab* *HD* *Crew* *Cab* *LS* *Pickup* *Chevrolet* *Silverado* *1500* *Crew* *Cab* *LS* *Chevrolet* *Silverado* *1500* *Crew* *Cab* *LT* *Chevrolet* *Silverado* *1500* *Crew* *Cab* *LTZ* *Chevrolet* *Silverado* *1500* *Crew* *Cab* *LT1* *Chevrolet* *Silverado* *1500* *Crew* *Cab* *Crew* *Cab* *Chevrolet* *Silverado* *1500* *Crew* *Cab* *XtraCab* *Chevrolet* *Silverado* *1500* *Crew* *Cab* *2500HD* *Classic* *Pick* *up* 2022  2021  2020  2019  2018  2017  2016  2015  2014  2013  2012  2011  2010  2009  2008  2007  2006  2005  2004  2003  2002  2001  2000   22  21    19  18  17  16  15  14  13  12  11  10  09  08  07  06  05  04  03  02  01  00\"\n",
            " ...\n",
            " \"Carvana is the safer way to buy a car During these uncertain times, Carvana is dedicated to ensuring safety for all of our customers. In addition to our 100% online shopping and selling experience that allows all customers to buy and trade their cars without ever leaving the safety of their house, we’re providing touchless delivery that make all aspects of our process even safer. Now, you can get the car you want, and trade in your old one, while avoiding person-to-person contact with our friendly advocates. There are some things that can’t be put off. And if buying a car is one of them, know that we’re doing everything we can to keep you keep moving while continuing to put your health safety, and happiness first. Vehicle Stock# 2000982563📱 Want to instantly check this car’s availability? Call us at  844-302-5033Just text that stock number to 855-976-4304 or head to http://www.carvanaauto.com/7092573-74801 and plug it into the search bar!Get PRE-QUALIFIED for your auto loan in 2 minutes - no hit to your credit:http://finance.carvanaauto.com/7092573-74801Looking for more cars like this one? We have 221 Kia Soul in stock for as low as $10590!Why buy with Carvana? We have one standard: the highest. Take a look at just some of the qualifications all of our cars must meet before we list them.150-POINT INSPECTION: We put each vehicle through a 150-point inspection so that you can be 100% confident in its quality and safety. See everything that goes into our inspections at:http://www.carvanaauto.com/7092573-74801NO REPORTED ACCIDENTS: We do not sell cars that have been in a reported accident or have a frame or structural damage.7 DAY TEST OWN MONEY BACK GUARANTEE: Every Carvana car comes with a 7-day money-back guarantee. Why? It takes more than 15-minutes to make a decision on your next car. Learn more about test owning at http://about.carvanaauto.comFLEXIBLE FINANCING, TRADE INS WELCOME: We’re all about real-time financing without the middle man. Need financing? Pick a combination of down and monthly payments that work for you. Have a trade-in? We’ll give you a value in 2 minutes. Check out everything about our financing at:http://finance.carvanaauto.com/7092573-74801COST SAVINGS: Carvana's business model has fewer expenses and no bloated fees compared to your local dealership. See how much we can save you at http://about.carvanaauto.comPREMIUM DETAIL: We go the extra mile so that your car is looking as good as new. There are a lot of specifics that we won’t list here (we wash, clean, buff, paint, polish, wax, seal), but trust us that when your car arrives, it’s going to look sweet.Vehicle Info for Stock# 2000982563Trim: + Wagon 4D wagonMileage: 5k milesExterior Color: RedInterior Color: BlackEngine: 2.0L I4 161hp 150ft. lbs.Drive: fwdTransmission: VIN: KNDJP3A58J7516126Dealer Disclosure: Price excludes tax, title, and registration (which we handle for you).Disclaimer: You agree that by providing your phone number, Carvana, or Carvana’s authorized representatives*, may call and/or send text messages (including by using equipment to automatically dial telephone numbers) about your interest in a purchase, for marketing/sales purposes, or for any other servicing or informational purpose related to your account. You do not have to consent to receiving calls or texts to purchase from Carvana. While every reasonable effort is made to ensure the accuracy of the information for this Kia Soul, we are not responsible for any errors or omissions contained in this ad. Please verify any information in question with Carvana at 844-302-5033*Including, but not limited to, Bridgecrest Credit Company, GO Financial and SilverRock Automotive.*Kia* *Soul* *Plus* *Kia* *Soul* *!* *Kia* *Soul* *EX* *Kia* *Soul* *Base* *Kia* *Soul* *Hybrid* *Kia* *Soul* *EV* *Sedan* *Hatchback* 2022  2021  2020  2019  2018  2017  2016  2015  2014  2013  2012  2011  2010  2009  2008  2007  2006  2005  2004  2003  2002  2001  2000   22  21    19  18  17  16  15  14  13  12  11  10  09  08  07  06  05  04  03  02  01  00\"\n",
            " 'Serious/ready buyers, please call or text @ (407) 739-0607  Up for sale is this truly LAVISH 2018 Mercedes Maybach S560 ultra-luxury sedan with only 6K low miles! It is still under the balance of its Mercedes-Benz factory warranty! This beauty is in stunning condition both inside and out. It had an MSRP of over $170,000.00 when new! 2018 was the first year of the W222\\'s mid-cycle facelift! This Maybach has a clean history report showing no accidents ever and only one owner since new! It has been serviced at Mercedes-Benz dealerships with records to prove! This Maybach has a power-sliding panorama sunroof, dual full recliners in the rear, rear refrigerator, premium factory upgraded 19\" multi-spoke wheels, power-operated trunk, soft-close doors, head-up display, keyless push-button start/entry, night-vision camera, lane-keep assist, Active Steering Assist, Active Distance Assist with DISTRONIC cruise control, power-operated shades on all rear windows, heated/cooled seats, seat massagers, power-folding side-view mirrors, navigation system, color-changing interior ambient lighting, rear-view camera, surround-view cameras, park-assist, Sirius XM Satellite Radio, Bluetooth for wireless communication/music streaming, Apply CarPlay, Android Auto, Burmester High-End 3D Surround Sound System, mbrace, built-in air freshener, height-adjustable suspension, built-in garage door openers, headrest pillows, dual rear entertainment system with wireless remotes, ice-cold A/C with quad-zone climate controls (dual climate controls in front and separate dual climate controls in rear), wireless cell phone charging pads in front and rear and so much more!                           Keywords: Mercedes-Benz Mercedes Benz Maybach Mercedes-Maybach S560 S650 S600 S550 S65 AMG S63 4Matic Bentley Continental Flying Spur GT Mulsanne Rolls Royce Ghost II Phantom 62 Aston Martin Rapide S Cullinan'\n",
            " \"2015 Toyota Corolla S Plus 6MT     Offered by: WE ARE OPEN EVERYONE APPROVED!  3 DAY 200 MILES EXCHANGE POLICY  — (407) 848-1115 — $9,550     Red 2015 Toyota Corolla S Plus FWD 4-Speed Automatic 1.8L I4 DOHC Dual VVT-iAwards:  * 2015 KBB.com 10 Best UberX Candidates   * 2015 KBB.com 10 Tech-Savviest Cars Under $20000   * 2015 KBB.com 5-Year Cost to Own AwardsFirst time buyers welcomed! Best program in Central Florida. Bad credit no credit no problem. Everybody rides! Trade-ins welcomed. We have one of the largest inventories over 175 cars to choose from. Best Price is financed with our lender on Tier 1 and EQUIFAX Excellent Credit plus tax title tag documents stamps & dealer fees. Please see the dealer for details. For more information visit WWW.RIKERSINC.COM.Due to market conditions vehicle price maybe adjusted daily.   WE ARE OPEN EVERYONE APPROVED!  3 DAY 200 MILES EXCHANGE POLICY     Year: 2015 Make: Toyota Model: Corolla Series: S Plus 6MT VIN: 2T1BURHE7FC445593 Stock #: RA13461 Condition: Used Mileage: 87,021 MPG: 28 city / 37 highway Exterior: Red  Body: Sedan Transmission: Automatic Engine: 1.8L I4 DOHC Dual VVT-i Drivetrain: FWD     *FOR A LIMITED TIME WE ARE OFFERING VEHICLES WITH ONLY  $500 Down on selected models. plus taxes and registration.                                                           WE WILL DELIVER  ⚡️⚡️⚡️⚡️⚡️⚡️⚡️Buy With Confidence 3 day 200 miles EXCHANGE Policy    ⚡️⚡️⚡️⚡️⚡️⚡️ CALL/TEXT 407-848-1115 ⚡️⚡️⚡️⚡️⚡️⚡️⚡️ 💥 RIKER'S AUTO FINANCIAL -🚘 - EZ FINANCING, BUY HERE/PAY HERE! 💥 ↪ APPLY TO DRIVE: https://rikersinc.com/creditapp.aspx?   ⛔ Please Read, Please Call, Please Confirm ⛔   ⚠️ We STRONGLY URGE you to call to verify availability of any used vehicle prior to coming in. PLEASE don't skip this simple step. ⚠️                                 ✅ RATES STARTING AT  3.49% ON APPROVED CREDIT! ✅ WE FINANCE EVERYONE - GOOD/BAD/NO CREDIT - NO PROBLEM! ✅ PAST REPO, PAST BANKRUPTCY, FIRST TIME BUYER, SSI INCOME, OPEN AUTO LOAN, JOB LETTER, SELF EMPLOYED - NO PROBLEM! ⚡️⚡️⚡️ APPLY TODAY - DRIVE TODAY! ⚡️⚡️⚡️ ↪ https://rikersinc.com/creditapp.aspx?        Address: 2776 N Orange Blossom Trail Kissimmee, FL 34744   Phone: (407) 848-1115     Website: rikersinc.com      📲 ☎️ Call or text (407) 848-1115 for quick answers to your questions about this Toyota Corolla Your message will always be answered by a real human — never an automated system.     Disclaimer: WE ARE OPEN EVERYONE APPROVED!  3 DAY 200 MILES EXCHANGE POLICY  will never sell, share, or spam your mobile number. Standard text messaging rates may apply. Cash price \\r \\r 2019 2018 2017 2016 2015 2014 2013 2012 2011 2010 2009 2008 2007 2006 2005 2004 2003 2002 2001 2000 19 18 17 16 15 14 13 12 11 10 09 08 07 06 05 04 03 02 01 00 2011 TOYOTA COROLLA LE lease,cheap car, cheap cars, used car, used cars, affordable car, affordable cars, preowned car, preowned cars, pre-owned car, pre-owned cars, inexpensive car, inexpensive cars, in-expensive car, in-expensive cars *affordable* *cheap* *used* *low miles* *inexpensive* *all wheel drive* *all-wheel-drive* *front wheel drive* *front-wheel-drive* *rear wheel drive* *rear-wheel-drive* *four wheel drive* 2011 TOYOTA COROLLA *affordable* *cheap* *used* *low miles* *inexpensive* *all wheel drive* *all-wheel-drive* *front wheel drive* *front-wheel-drive* *affordable* *cheap* *used* *low miles* *inexpensive* *all wheel drive* *all-wheel-drive* *front wheel drive* *front-wheel-drive* *rear wheel drive* Thank You. Dealer Services Apopka, Adelsa, Rikers      2015 Toyota Corolla S Plus 6MT   38968032871445c68aa56ab44f6edc62\"]\n",
            "--------------------\n",
            "Column: state\n",
            "Unique values: ['al' 'ak' 'az' 'ar' 'ca' 'co' 'ct' 'dc' 'de' 'fl']\n",
            "--------------------\n",
            "Column: lat\n",
            "Unique values: [32.59     32.592    32.6013   ... 28.538061 28.421716 28.418   ]\n",
            "--------------------\n",
            "Column: long\n",
            "Unique values: [-85.48     -85.5189   -85.443974 ... -81.744233 -81.404792 -81.5032  ]\n",
            "--------------------\n",
            "Column: posting_date\n",
            "Unique values: ['2021-05-04T12:31:18-0500' '2021-05-04T12:31:08-0500'\n",
            " '2021-05-04T12:31:25-0500' ... '2021-04-25T13:01:03-0400'\n",
            " '2021-04-25T12:58:01-0400' '2021-04-25T12:03:28-0400']\n",
            "--------------------\n"
          ]
        }
      ]
    },
    {
      "cell_type": "code",
      "source": [
        "# Eliminar columnas especificadas\n",
        "columns_to_drop = ['id', 'url', 'region_url', 'description', 'image_url']\n",
        "df = df.drop(columns=columns_to_drop, errors='ignore')"
      ],
      "metadata": {
        "id": "ZNy9HAUW2jW8"
      },
      "execution_count": null,
      "outputs": []
    },
    {
      "cell_type": "markdown",
      "source": [
        "### -> Análisis\n",
        "Se revisó manualmente datos categóricos, con la mayoría se decidió no hacer algún tipo de corrección en cuanto a inconsistencias, más por falta de documentación y de posibles malinterpretaciones que se den, por ejemplo en model 'silverado 1500' puede ser lo mismo que 'silverado 1500 crew' o no.\n",
        "Pese a esto, si se decidió eliminar algunas columnas que suponemos no dan tampoco algún tipo de información en algún análisis, bien sea porque eran valores únicos (como algunos url), o decían la misma información que otras columnas dejadas, o la columna description que si bien puede ser útil, se requeriría otro tipo de análisis, más de textos o sentimientos para poder utilizar esta variable como característica en los modelos a correr"
      ],
      "metadata": {
        "id": "YLw7Dr355wwC"
      }
    },
    {
      "cell_type": "markdown",
      "source": [
        "## - Escalar las características numéricas.\n"
      ],
      "metadata": {
        "id": "qSB7MlSMlpYa"
      }
    },
    {
      "cell_type": "code",
      "source": [
        "df_copy = df.copy()"
      ],
      "metadata": {
        "id": "A4t1oPN0X_bS"
      },
      "execution_count": null,
      "outputs": []
    },
    {
      "cell_type": "code",
      "source": [
        "df.to_csv('3_Core_df_part_1_25_EDA_1.csv', index=False)"
      ],
      "metadata": {
        "id": "r3hnphFtYBGQ"
      },
      "execution_count": null,
      "outputs": []
    },
    {
      "cell_type": "markdown",
      "source": [
        "------------------------------------------------------------------------------------------------------------------------------------------------------------------------------------------------------------------------------------------------------------------------------------------------------------------------------------------------------------------------------------------------------------------------------------------------------------------------------------------------------------------------------------------------------------------------------------------------------------------------------------------------------------------------------------------------------------------------------------------------\n",
        "------------------------------------------------------------------------------------------------------------------------------------------------------------------------------------------------------------------------------------------------------------------------------------------------------------------------------------------------------------------------------------------------------------------------------------------------------------------------------------------------\n",
        "------------------------------------------------------------------------------------------------------------------------------------------------------------------------------------------------------------------------------------------------------------------------------------------------------------------------------------------------------------------------------------------------------------------------------------------------------------------------------------------------\n",
        "------------------------------------------------------------------------------------------------------------------------------------------------------------------------------------------------------------------------------------------------\n",
        "------------------------------------------------------------------------------------------------------------------------------------------------------------------------------------------------------------------------------------------------\n",
        "------------------------------------------------------------------------------------------------------------------------------------------------------------------------------------------------------------------------------------------------\n",
        "------------------------------------------------------------------------------------------------------------------------------------------------------------------------------------------------------------------------------------------------\n",
        "------------------------------------------------------------------------------------------------------------------------------------------------------------------------------------------------------------------------------------------------"
      ],
      "metadata": {
        "id": "hxFltzE5YQqT"
      }
    },
    {
      "cell_type": "code",
      "source": [
        "import pandas as pd\n",
        "import numpy as np\n",
        "import matplotlib.pyplot as plt\n",
        "import seaborn as sns"
      ],
      "metadata": {
        "id": "7SPPR9HMYvSD"
      },
      "execution_count": 10,
      "outputs": []
    },
    {
      "cell_type": "code",
      "source": [
        "df = pd.read_csv('/content/3_Core_df_part_1_25_EDA_1.csv')"
      ],
      "metadata": {
        "id": "oGVziNAOYwIX"
      },
      "execution_count": 11,
      "outputs": []
    },
    {
      "cell_type": "code",
      "source": [
        "df.info()"
      ],
      "metadata": {
        "colab": {
          "base_uri": "https://localhost:8080/"
        },
        "id": "Gl0IvnlrY_rl",
        "outputId": "19f75b14-3b0f-47a5-a7c4-a0197fb8f892"
      },
      "execution_count": 12,
      "outputs": [
        {
          "output_type": "stream",
          "name": "stdout",
          "text": [
            "<class 'pandas.core.frame.DataFrame'>\n",
            "RangeIndex: 69166 entries, 0 to 69165\n",
            "Data columns (total 15 columns):\n",
            " #   Column        Non-Null Count  Dtype  \n",
            "---  ------        --------------  -----  \n",
            " 0   region        69166 non-null  object \n",
            " 1   price         69166 non-null  int64  \n",
            " 2   year          69166 non-null  float64\n",
            " 3   manufacturer  69166 non-null  object \n",
            " 4   model         69166 non-null  object \n",
            " 5   fuel          69166 non-null  object \n",
            " 6   odometer      69166 non-null  float64\n",
            " 7   title_status  69166 non-null  object \n",
            " 8   transmission  69166 non-null  object \n",
            " 9   type          69166 non-null  object \n",
            " 10  paint_color   69166 non-null  object \n",
            " 11  state         69166 non-null  object \n",
            " 12  lat           69166 non-null  float64\n",
            " 13  long          69166 non-null  float64\n",
            " 14  posting_date  69166 non-null  object \n",
            "dtypes: float64(4), int64(1), object(10)\n",
            "memory usage: 7.9+ MB\n"
          ]
        }
      ]
    },
    {
      "cell_type": "code",
      "source": [
        "df_numeric = df.select_dtypes(include=['number'])\n",
        "\n",
        "correlation_matrix_pearson = df_numeric.corr(method='pearson')\n",
        "\n",
        "plt.figure(figsize=(20, 16))\n",
        "plt.title('Correlación de Pearson')\n",
        "sns.heatmap(correlation_matrix_pearson, annot=True, cmap='coolwarm', fmt='.2f', vmin=-1, vmax=1)\n",
        "plt.show()"
      ],
      "metadata": {
        "id": "83n3Mjw57maU",
        "colab": {
          "base_uri": "https://localhost:8080/",
          "height": 1000
        },
        "outputId": "12749196-913a-4a74-c29b-12c2ff88a96a"
      },
      "execution_count": 13,
      "outputs": [
        {
          "output_type": "display_data",
          "data": {
            "text/plain": [
              "<Figure size 2000x1600 with 2 Axes>"
            ],
            "image/png": "[encoded data removed]"
          },
          "metadata": {}
        }
      ]
    },
    {
      "cell_type": "code",
      "source": [
        "sns.histplot(df['price'], kde=True)\n",
        "plt.show()"
      ],
      "metadata": {
        "id": "GIjy3d3RZVy6"
      },
      "execution_count": null,
      "outputs": []
    },
    {
      "cell_type": "code",
      "source": [
        "df['log_price'] = np.log1p(df['price'])\n",
        "sns.histplot(df['log_price'], kde=True)\n",
        "plt.show()"
      ],
      "metadata": {
        "id": "ucjHQLteZVuV"
      },
      "execution_count": null,
      "outputs": []
    },
    {
      "cell_type": "code",
      "source": [
        "from sklearn.preprocessing import StandardScaler\n",
        "\n",
        "scaler = StandardScaler()\n",
        "\n",
        "df['year_scaled'] = scaler.fit_transform(df[['year']])\n",
        "df['odometer_scaled'] = scaler.fit_transform(df[['odometer']])\n",
        "df['lat_scaled'] = scaler.fit_transform(df[['lat']])\n",
        "df['long_scaled'] = scaler.fit_transform(df[['long']])"
      ],
      "metadata": {
        "id": "ibabw94Klj-t"
      },
      "execution_count": null,
      "outputs": []
    },
    {
      "cell_type": "markdown",
      "source": [
        "## - Realizar transformaciones necesarias para las características categóricas."
      ],
      "metadata": {
        "id": "iq1t__yXlrHQ"
      }
    },
    {
      "cell_type": "code",
      "source": [
        "show_unique_values(df)"
      ],
      "metadata": {
        "id": "J0HSSj7OfuJA",
        "colab": {
          "base_uri": "https://localhost:8080/"
        },
        "outputId": "b2784627-4932-495b-f289-9ea3b33f2bab"
      },
      "execution_count": null,
      "outputs": [
        {
          "output_type": "stream",
          "name": "stdout",
          "text": [
            "Column: region\n",
            "Unique values: ['auburn' 'birmingham' 'dothan' 'florence / muscle shoals'\n",
            " 'gadsden-anniston' 'huntsville / decatur' 'mobile' 'montgomery'\n",
            " 'tuscaloosa' 'anchorage / mat-su' 'fairbanks' 'kenai peninsula'\n",
            " 'southeast alaska' 'flagstaff / sedona' 'mohave county' 'phoenix'\n",
            " 'prescott' 'show low' 'sierra vista' 'tucson' 'yuma' 'fayetteville'\n",
            " 'fort smith' 'jonesboro' 'little rock' 'texarkana' 'bakersfield' 'chico'\n",
            " 'fresno / madera' 'gold country' 'hanford-corcoran' 'humboldt county'\n",
            " 'imperial county' 'inland empire' 'los angeles' 'mendocino county'\n",
            " 'merced' 'modesto' 'monterey bay' 'orange county' 'palm springs'\n",
            " 'redding' 'reno / tahoe' 'sacramento' 'san diego' 'san luis obispo'\n",
            " 'santa barbara' 'santa maria' 'SF bay area' 'siskiyou county' 'stockton'\n",
            " 'susanville' 'ventura county' 'visalia-tulare' 'yuba-sutter' 'boulder'\n",
            " 'colorado springs' 'denver' 'eastern CO' 'fort collins / north CO'\n",
            " 'high rockies' 'pueblo' 'western slope' 'eastern CT' 'hartford'\n",
            " 'new haven' 'northwest CT' 'washington, DC' 'delaware' 'daytona beach'\n",
            " 'florida keys' 'ft myers / SW florida' 'gainesville' 'heartland florida'\n",
            " 'jacksonville' 'lakeland' 'north central FL' 'ocala' 'okaloosa / walton'\n",
            " 'orlando']\n",
            "--------------------\n",
            "Column: price\n",
            "Unique values: [ 33590  22590  39590 ...  26994  21660 129999]\n",
            "--------------------\n",
            "Column: year\n",
            "Unique values: [2014. 2010. 2020. 2017. 2013. 2012. 2016. 2019. 2011. 2018. 2004. 2015.\n",
            " 2001. 2003. 2008. 2007. 2006. 2005. 2009. 1998. 2002. 1995. 1978. 1979.\n",
            " 1974. 1996. 2000. 1955. 1999. 1997. 1972. 2021. 1994. 1988. 1968. 1984.\n",
            " 1986. 1989. 1992. 1933. 1958. 1976. 1991. 1953. 1963. 1993. 1990. 1982.\n",
            " 1948. 1951. 1936. 1966. 1967. 1981. 1947. 1962. 1973. 1975. 1964. 1977.\n",
            " 1971. 1980. 1985. 1946. 1987. 1970. 1957. 1930. 1969. 1950. 1959. 1965.\n",
            " 1922. 1928. 1952. 1960. 1929. 1932. 1956. 1924. 1927. 1939. 1983. 1923.\n",
            " 1937. 1934. 1940. 1961. 1918. 1935. 1954. 1938. 1949. 1900. 1931. 2022.\n",
            " 1926. 1942. 1913. 1941.]\n",
            "--------------------\n",
            "Column: manufacturer\n",
            "Unique values: ['gmc' 'chevrolet' 'toyota' 'ford' 'jeep' 'nissan' 'ram' 'cadillac'\n",
            " 'honda' 'dodge' 'lexus' 'jaguar' 'buick' 'chrysler' 'volvo' 'infiniti'\n",
            " 'lincoln' 'acura' 'hyundai' 'mercedes-benz' 'audi' 'bmw' 'mitsubishi'\n",
            " 'subaru' 'alfa-romeo' 'volkswagen' 'mazda' 'porsche' 'kia' 'ferrari'\n",
            " 'mini' 'pontiac' 'fiat' 'rover' 'tesla' 'saturn' 'mercury'\n",
            " 'harley-davidson' 'datsun' 'aston-martin' 'land rover']\n",
            "--------------------\n",
            "Column: model\n",
            "Unique values: ['sierra 1500 crew cab slt' 'silverado 1500' 'silverado 1500 crew' ...\n",
            " 'gl gl550 4matic' '550i f10' 'maybach s560']\n",
            "--------------------\n",
            "Column: fuel\n",
            "Unique values: ['gas' 'other' 'diesel' 'hybrid' 'electric']\n",
            "--------------------\n",
            "Column: odometer\n",
            "Unique values: [ 57923.  71229.  19160. ... 158825.  21641.   1692.]\n",
            "--------------------\n",
            "Column: title_status\n",
            "Unique values: ['clean' 'rebuilt' 'lien' 'salvage' 'missing' 'parts only']\n",
            "--------------------\n",
            "Column: transmission\n",
            "Unique values: ['other' 'automatic' 'manual']\n",
            "--------------------\n",
            "Column: type\n",
            "Unique values: ['pickup' 'truck' 'other' 'coupe' 'SUV' 'hatchback' 'mini-van' 'sedan'\n",
            " 'offroad' 'van' 'convertible' 'unknown' 'wagon' 'bus']\n",
            "--------------------\n",
            "Column: paint_color\n",
            "Unique values: ['white' 'blue' 'red' 'black' 'silver' 'grey' 'brown' 'yellow' 'orange'\n",
            " 'green' 'custom' 'purple']\n",
            "--------------------\n",
            "Column: state\n",
            "Unique values: ['al' 'ak' 'az' 'ar' 'ca' 'co' 'ct' 'dc' 'de' 'fl']\n",
            "--------------------\n",
            "Column: lat\n",
            "Unique values: [32.59     32.592    32.6013   ... 28.538061 28.421716 28.418   ]\n",
            "--------------------\n",
            "Column: long\n",
            "Unique values: [-85.48     -85.5189   -85.443974 ... -81.744233 -81.404792 -81.5032  ]\n",
            "--------------------\n",
            "Column: posting_date\n",
            "Unique values: ['2021-05-04T12:31:18-0500' '2021-05-04T12:31:08-0500'\n",
            " '2021-05-04T12:31:25-0500' ... '2021-04-25T13:01:03-0400'\n",
            " '2021-04-25T12:58:01-0400' '2021-04-25T12:03:28-0400']\n",
            "--------------------\n"
          ]
        }
      ]
    },
    {
      "cell_type": "code",
      "source": [
        "df_copy.to_csv('exported_df_copy.csv', index=False)"
      ],
      "metadata": {
        "id": "tMfTxuE6ILhi"
      },
      "execution_count": null,
      "outputs": []
    },
    {
      "cell_type": "code",
      "source": [
        "#No soportó\n",
        "#df_encoded = pd.get_dummies(df_copy, columns=['manufacturer', 'manufacturer', 'model', 'fuel', 'title_status',\n",
        "#                                              'transmission', 'type', 'state'])\n",
        "\n",
        "from sklearn.preprocessing import LabelEncoder\n",
        "\n",
        "le = LabelEncoder()\n",
        "\n",
        "columns_to_encode = ['region', 'paint_color', 'manufacturer', 'model', 'fuel', 'title_status', 'transmission', 'type', 'state']\n",
        "\n",
        "for column in columns_to_encode:\n",
        "    df[column + '_encoded'] = le.fit_transform(df[column])"
      ],
      "metadata": {
        "id": "x2gr8DH18cPA"
      },
      "execution_count": null,
      "outputs": []
    },
    {
      "cell_type": "code",
      "source": [
        "# Eliminar columnas especificadas\n",
        "columns_to_drop = ['region', 'paint_color', 'manufacturer', 'model', 'fuel', 'title_status', 'transmission', 'type', 'state', 'posting_date']\n",
        "df = df.drop(columns=columns_to_drop, errors='ignore')\n",
        "\n",
        "# Muestra las columnas restantes (opcional)\n",
        "df.columns"
      ],
      "metadata": {
        "colab": {
          "base_uri": "https://localhost:8080/"
        },
        "id": "7gGXjEbcPhND",
        "outputId": "8f90a246-b7bd-45b1-8d3f-5c76d67e42b9"
      },
      "execution_count": null,
      "outputs": [
        {
          "output_type": "execute_result",
          "data": {
            "text/plain": [
              "Index(['price', 'year', 'odometer', 'lat', 'long', 'region_encoded',\n",
              "       'paint_color_encoded', 'manufacturer_encoded', 'model_encoded',\n",
              "       'fuel_encoded', 'title_status_encoded', 'transmission_encoded',\n",
              "       'type_encoded', 'state_encoded'],\n",
              "      dtype='object')"
            ]
          },
          "metadata": {},
          "execution_count": 92
        }
      ]
    },
    {
      "cell_type": "markdown",
      "source": [
        "# 3) Exploración de Datos:\n",
        "\n"
      ],
      "metadata": {
        "id": "D2sDw4jGae9W"
      }
    },
    {
      "cell_type": "markdown",
      "source": [
        "## - Crear visualizaciones univariadas y multivariadas.\n"
      ],
      "metadata": {
        "id": "RWR2AFqqls73"
      }
    },
    {
      "cell_type": "code",
      "source": [
        "df['price'] = df['price'].astype(float)"
      ],
      "metadata": {
        "id": "xR-6Q_C1QVMN"
      },
      "execution_count": null,
      "outputs": []
    },
    {
      "cell_type": "code",
      "source": [
        "df.info()"
      ],
      "metadata": {
        "colab": {
          "base_uri": "https://localhost:8080/"
        },
        "id": "wK-E7beJObxf",
        "outputId": "e8f25023-0739-4011-8b6d-bec62637a4df"
      },
      "execution_count": null,
      "outputs": [
        {
          "output_type": "stream",
          "name": "stdout",
          "text": [
            "<class 'pandas.core.frame.DataFrame'>\n",
            "Index: 69166 entries, 27 to 106718\n",
            "Data columns (total 14 columns):\n",
            " #   Column                Non-Null Count  Dtype  \n",
            "---  ------                --------------  -----  \n",
            " 0   price                 69166 non-null  float64\n",
            " 1   year                  69166 non-null  float64\n",
            " 2   odometer              69166 non-null  float64\n",
            " 3   lat                   69166 non-null  float64\n",
            " 4   long                  69166 non-null  float64\n",
            " 5   region_encoded        69166 non-null  int64  \n",
            " 6   paint_color_encoded   69166 non-null  int64  \n",
            " 7   manufacturer_encoded  69166 non-null  int64  \n",
            " 8   model_encoded         69166 non-null  int64  \n",
            " 9   fuel_encoded          69166 non-null  int64  \n",
            " 10  title_status_encoded  69166 non-null  int64  \n",
            " 11  transmission_encoded  69166 non-null  int64  \n",
            " 12  type_encoded          69166 non-null  int64  \n",
            " 13  state_encoded         69166 non-null  int64  \n",
            "dtypes: float64(5), int64(9)\n",
            "memory usage: 7.9 MB\n"
          ]
        }
      ]
    },
    {
      "cell_type": "code",
      "source": [
        "columns_to_drop = ['year', 'odometer', 'lat', 'long']\n",
        "df = df.drop(columns=columns_to_drop, errors='ignore')\n"
      ],
      "metadata": {
        "id": "zjuIPP0xRrH7"
      },
      "execution_count": null,
      "outputs": []
    },
    {
      "cell_type": "code",
      "source": [
        "correlation_matrix_spearman = df.corr(method='pearson')\n",
        "\n",
        "plt.figure(figsize=(20, 16))\n",
        "plt.title('Correlación de Pearson')\n",
        "sns.heatmap(correlation_matrix_spearman, annot=True, cmap='coolwarm', fmt='.2f', vmin=-1, vmax=1)\n",
        "plt.show()"
      ],
      "metadata": {
        "id": "bRdHoaeCN9tQ",
        "colab": {
          "base_uri": "https://localhost:8080/",
          "height": 1000
        },
        "outputId": "21e63778-fcd4-44eb-d079-60f1300b7c50"
      },
      "execution_count": null,
      "outputs": [
        {
          "output_type": "display_data",
          "data": {
            "text/plain": [
              "<Figure size 2000x1600 with 2 Axes>"
            ],
            "image/png": "[encoded data removed]"
          },
          "metadata": {}
        }
      ]
    },
    {
      "cell_type": "markdown",
      "source": [
        "## - Calcular estadísticas descriptivas."
      ],
      "metadata": {
        "id": "YQtS1b5vluNx"
      }
    },
    {
      "cell_type": "code",
      "source": [
        "df.describe()"
      ],
      "metadata": {
        "colab": {
          "base_uri": "https://localhost:8080/",
          "height": 320
        },
        "id": "5Bf_n_nQUBOF",
        "outputId": "a11a29a7-3db8-4246-8269-4fac98d20b93"
      },
      "execution_count": null,
      "outputs": [
        {
          "output_type": "execute_result",
          "data": {
            "text/plain": [
              "              price          year      odometer           lat          long  \\\n",
              "count  6.916600e+04  69166.000000  6.916600e+04  69166.000000  69166.000000   \n",
              "mean   3.450736e+04   2011.698060  9.511299e+04     36.478329   -105.593611   \n",
              "std    4.224814e+06      8.627806  2.092272e+05      6.488117     19.400843   \n",
              "min    0.000000e+00   1900.000000  0.000000e+00    -81.838232   -158.599600   \n",
              "25%    7.000000e+03   2009.000000  3.782075e+04     33.508275   -120.445530   \n",
              "50%    1.550000e+04   2014.000000  8.200300e+04     35.393500   -111.924900   \n",
              "75%    2.699000e+04   2017.000000  1.295700e+05     38.870000    -84.411811   \n",
              "max    1.111111e+09   2022.000000  1.000000e+07     64.993698    173.885502   \n",
              "\n",
              "       region_encoded  paint_color_encoded  manufacturer_encoded  \\\n",
              "count    69166.000000         69166.000000          69166.000000   \n",
              "mean        39.076497             5.866524             19.119943   \n",
              "std         24.156094             4.107659             11.545160   \n",
              "min          0.000000             0.000000              0.000000   \n",
              "25%         19.000000             1.000000             10.000000   \n",
              "50%         39.000000             8.000000             16.000000   \n",
              "75%         59.000000            10.000000             30.000000   \n",
              "max         79.000000            11.000000             40.000000   \n",
              "\n",
              "       model_encoded  fuel_encoded  title_status_encoded  \\\n",
              "count   69166.000000  69166.000000          69166.000000   \n",
              "mean     4228.035769      2.064830              0.101524   \n",
              "std      2340.795053      0.766965              0.658100   \n",
              "min         0.000000      0.000000              0.000000   \n",
              "25%      2271.000000      2.000000              0.000000   \n",
              "50%      4166.000000      2.000000              0.000000   \n",
              "75%      6445.000000      2.000000              0.000000   \n",
              "max      8255.000000      4.000000              5.000000   \n",
              "\n",
              "       transmission_encoded  type_encoded  state_encoded     log_price  \n",
              "count          69166.000000  69166.000000   69166.000000  69166.000000  \n",
              "mean               0.401614      6.694677       4.586733      8.870963  \n",
              "std                0.764725      4.026393       2.296774      2.671851  \n",
              "min                0.000000      0.000000       0.000000      0.000000  \n",
              "25%                0.000000      3.000000       4.000000      8.853808  \n",
              "50%                0.000000      8.000000       4.000000      9.648660  \n",
              "75%                0.000000      9.000000       5.000000     10.203259  \n",
              "max                2.000000     13.000000       9.000000     20.828626  "
            ],
            "text/html": [
              "\n",
              "  <div id=\"df-9e363764-0a14-4313-8b04-fdd7f3ec0744\" class=\"colab-df-container\">\n",
              "    <div>\n",
              "<style scoped>\n",
              "    .dataframe tbody tr th:only-of-type {\n",
              "        vertical-align: middle;\n",
              "    }\n",
              "\n",
              "    .dataframe tbody tr th {\n",
              "        vertical-align: top;\n",
              "    }\n",
              "\n",
              "    .dataframe thead th {\n",
              "        text-align: right;\n",
              "    }\n",
              "</style>\n",
              "<table border=\"1\" class=\"dataframe\">\n",
              "  <thead>\n",
              "    <tr style=\"text-align: right;\">\n",
              "      <th></th>\n",
              "      <th>price</th>\n",
              "      <th>year</th>\n",
              "      <th>odometer</th>\n",
              "      <th>lat</th>\n",
              "      <th>long</th>\n",
              "      <th>region_encoded</th>\n",
              "      <th>paint_color_encoded</th>\n",
              "      <th>manufacturer_encoded</th>\n",
              "      <th>model_encoded</th>\n",
              "      <th>fuel_encoded</th>\n",
              "      <th>title_status_encoded</th>\n",
              "      <th>transmission_encoded</th>\n",
              "      <th>type_encoded</th>\n",
              "      <th>state_encoded</th>\n",
              "      <th>log_price</th>\n",
              "    </tr>\n",
              "  </thead>\n",
              "  <tbody>\n",
              "    <tr>\n",
              "      <th>count</th>\n",
              "      <td>6.916600e+04</td>\n",
              "      <td>69166.000000</td>\n",
              "      <td>6.916600e+04</td>\n",
              "      <td>69166.000000</td>\n",
              "      <td>69166.000000</td>\n",
              "      <td>69166.000000</td>\n",
              "      <td>69166.000000</td>\n",
              "      <td>69166.000000</td>\n",
              "      <td>69166.000000</td>\n",
              "      <td>69166.000000</td>\n",
              "      <td>69166.000000</td>\n",
              "      <td>69166.000000</td>\n",
              "      <td>69166.000000</td>\n",
              "      <td>69166.000000</td>\n",
              "      <td>69166.000000</td>\n",
              "    </tr>\n",
              "    <tr>\n",
              "      <th>mean</th>\n",
              "      <td>3.450736e+04</td>\n",
              "      <td>2011.698060</td>\n",
              "      <td>9.511299e+04</td>\n",
              "      <td>36.478329</td>\n",
              "      <td>-105.593611</td>\n",
              "      <td>39.076497</td>\n",
              "      <td>5.866524</td>\n",
              "      <td>19.119943</td>\n",
              "      <td>4228.035769</td>\n",
              "      <td>2.064830</td>\n",
              "      <td>0.101524</td>\n",
              "      <td>0.401614</td>\n",
              "      <td>6.694677</td>\n",
              "      <td>4.586733</td>\n",
              "      <td>8.870963</td>\n",
              "    </tr>\n",
              "    <tr>\n",
              "      <th>std</th>\n",
              "      <td>4.224814e+06</td>\n",
              "      <td>8.627806</td>\n",
              "      <td>2.092272e+05</td>\n",
              "      <td>6.488117</td>\n",
              "      <td>19.400843</td>\n",
              "      <td>24.156094</td>\n",
              "      <td>4.107659</td>\n",
              "      <td>11.545160</td>\n",
              "      <td>2340.795053</td>\n",
              "      <td>0.766965</td>\n",
              "      <td>0.658100</td>\n",
              "      <td>0.764725</td>\n",
              "      <td>4.026393</td>\n",
              "      <td>2.296774</td>\n",
              "      <td>2.671851</td>\n",
              "    </tr>\n",
              "    <tr>\n",
              "      <th>min</th>\n",
              "      <td>0.000000e+00</td>\n",
              "      <td>1900.000000</td>\n",
              "      <td>0.000000e+00</td>\n",
              "      <td>-81.838232</td>\n",
              "      <td>-158.599600</td>\n",
              "      <td>0.000000</td>\n",
              "      <td>0.000000</td>\n",
              "      <td>0.000000</td>\n",
              "      <td>0.000000</td>\n",
              "      <td>0.000000</td>\n",
              "      <td>0.000000</td>\n",
              "      <td>0.000000</td>\n",
              "      <td>0.000000</td>\n",
              "      <td>0.000000</td>\n",
              "      <td>0.000000</td>\n",
              "    </tr>\n",
              "    <tr>\n",
              "      <th>25%</th>\n",
              "      <td>7.000000e+03</td>\n",
              "      <td>2009.000000</td>\n",
              "      <td>3.782075e+04</td>\n",
              "      <td>33.508275</td>\n",
              "      <td>-120.445530</td>\n",
              "      <td>19.000000</td>\n",
              "      <td>1.000000</td>\n",
              "      <td>10.000000</td>\n",
              "      <td>2271.000000</td>\n",
              "      <td>2.000000</td>\n",
              "      <td>0.000000</td>\n",
              "      <td>0.000000</td>\n",
              "      <td>3.000000</td>\n",
              "      <td>4.000000</td>\n",
              "      <td>8.853808</td>\n",
              "    </tr>\n",
              "    <tr>\n",
              "      <th>50%</th>\n",
              "      <td>1.550000e+04</td>\n",
              "      <td>2014.000000</td>\n",
              "      <td>8.200300e+04</td>\n",
              "      <td>35.393500</td>\n",
              "      <td>-111.924900</td>\n",
              "      <td>39.000000</td>\n",
              "      <td>8.000000</td>\n",
              "      <td>16.000000</td>\n",
              "      <td>4166.000000</td>\n",
              "      <td>2.000000</td>\n",
              "      <td>0.000000</td>\n",
              "      <td>0.000000</td>\n",
              "      <td>8.000000</td>\n",
              "      <td>4.000000</td>\n",
              "      <td>9.648660</td>\n",
              "    </tr>\n",
              "    <tr>\n",
              "      <th>75%</th>\n",
              "      <td>2.699000e+04</td>\n",
              "      <td>2017.000000</td>\n",
              "      <td>1.295700e+05</td>\n",
              "      <td>38.870000</td>\n",
              "      <td>-84.411811</td>\n",
              "      <td>59.000000</td>\n",
              "      <td>10.000000</td>\n",
              "      <td>30.000000</td>\n",
              "      <td>6445.000000</td>\n",
              "      <td>2.000000</td>\n",
              "      <td>0.000000</td>\n",
              "      <td>0.000000</td>\n",
              "      <td>9.000000</td>\n",
              "      <td>5.000000</td>\n",
              "      <td>10.203259</td>\n",
              "    </tr>\n",
              "    <tr>\n",
              "      <th>max</th>\n",
              "      <td>1.111111e+09</td>\n",
              "      <td>2022.000000</td>\n",
              "      <td>1.000000e+07</td>\n",
              "      <td>64.993698</td>\n",
              "      <td>173.885502</td>\n",
              "      <td>79.000000</td>\n",
              "      <td>11.000000</td>\n",
              "      <td>40.000000</td>\n",
              "      <td>8255.000000</td>\n",
              "      <td>4.000000</td>\n",
              "      <td>5.000000</td>\n",
              "      <td>2.000000</td>\n",
              "      <td>13.000000</td>\n",
              "      <td>9.000000</td>\n",
              "      <td>20.828626</td>\n",
              "    </tr>\n",
              "  </tbody>\n",
              "</table>\n",
              "</div>\n",
              "    <div class=\"colab-df-buttons\">\n",
              "\n",
              "  <div class=\"colab-df-container\">\n",
              "    <button class=\"colab-df-convert\" onclick=\"convertToInteractive('df-9e363764-0a14-4313-8b04-fdd7f3ec0744')\"\n",
              "            title=\"Convert this dataframe to an interactive table.\"\n",
              "            style=\"display:none;\">\n",
              "\n",
              "  <svg xmlns=\"http://www.w3.org/2000/svg\" height=\"24px\" viewBox=\"0 -960 960 960\">\n",
              "    <path d=\"M120-120v-720h720v720H120Zm60-500h600v-160H180v160Zm220 220h160v-160H400v160Zm0 220h160v-160H400v160ZM180-400h160v-160H180v160Zm440 0h160v-160H620v160ZM180-180h160v-160H180v160Zm440 0h160v-160H620v160Z\"/>\n",
              "  </svg>\n",
              "    </button>\n",
              "\n",
              "  <style>\n",
              "    .colab-df-container {\n",
              "      display:flex;\n",
              "      gap: 12px;\n",
              "    }\n",
              "\n",
              "    .colab-df-convert {\n",
              "      background-color: #E8F0FE;\n",
              "      border: none;\n",
              "      border-radius: 50%;\n",
              "      cursor: pointer;\n",
              "      display: none;\n",
              "      fill: #1967D2;\n",
              "      height: 32px;\n",
              "      padding: 0 0 0 0;\n",
              "      width: 32px;\n",
              "    }\n",
              "\n",
              "    .colab-df-convert:hover {\n",
              "      background-color: #E2EBFA;\n",
              "      box-shadow: 0px 1px 2px rgba(60, 64, 67, 0.3), 0px 1px 3px 1px rgba(60, 64, 67, 0.15);\n",
              "      fill: #174EA6;\n",
              "    }\n",
              "\n",
              "    .colab-df-buttons div {\n",
              "      margin-bottom: 4px;\n",
              "    }\n",
              "\n",
              "    [theme=dark] .colab-df-convert {\n",
              "      background-color: #3B4455;\n",
              "      fill: #D2E3FC;\n",
              "    }\n",
              "\n",
              "    [theme=dark] .colab-df-convert:hover {\n",
              "      background-color: #434B5C;\n",
              "      box-shadow: 0px 1px 3px 1px rgba(0, 0, 0, 0.15);\n",
              "      filter: drop-shadow(0px 1px 2px rgba(0, 0, 0, 0.3));\n",
              "      fill: #FFFFFF;\n",
              "    }\n",
              "  </style>\n",
              "\n",
              "    <script>\n",
              "      const buttonEl =\n",
              "        document.querySelector('#df-9e363764-0a14-4313-8b04-fdd7f3ec0744 button.colab-df-convert');\n",
              "      buttonEl.style.display =\n",
              "        google.colab.kernel.accessAllowed ? 'block' : 'none';\n",
              "\n",
              "      async function convertToInteractive(key) {\n",
              "        const element = document.querySelector('#df-9e363764-0a14-4313-8b04-fdd7f3ec0744');\n",
              "        const dataTable =\n",
              "          await google.colab.kernel.invokeFunction('convertToInteractive',\n",
              "                                                    [key], {});\n",
              "        if (!dataTable) return;\n",
              "\n",
              "        const docLinkHtml = 'Like what you see? Visit the ' +\n",
              "          '<a target=\"_blank\" href=https://colab.research.google.com/notebooks/data_table.ipynb>data table notebook</a>'\n",
              "          + ' to learn more about interactive tables.';\n",
              "        element.innerHTML = '';\n",
              "        dataTable['output_type'] = 'display_data';\n",
              "        await google.colab.output.renderOutput(dataTable, element);\n",
              "        const docLink = document.createElement('div');\n",
              "        docLink.innerHTML = docLinkHtml;\n",
              "        element.appendChild(docLink);\n",
              "      }\n",
              "    </script>\n",
              "  </div>\n",
              "\n",
              "\n",
              "<div id=\"df-67100741-232a-403b-a4b6-0cf2aea3c7ee\">\n",
              "  <button class=\"colab-df-quickchart\" onclick=\"quickchart('df-67100741-232a-403b-a4b6-0cf2aea3c7ee')\"\n",
              "            title=\"Suggest charts\"\n",
              "            style=\"display:none;\">\n",
              "\n",
              "<svg xmlns=\"http://www.w3.org/2000/svg\" height=\"24px\"viewBox=\"0 0 24 24\"\n",
              "     width=\"24px\">\n",
              "    <g>\n",
              "        <path d=\"M19 3H5c-1.1 0-2 .9-2 2v14c0 1.1.9 2 2 2h14c1.1 0 2-.9 2-2V5c0-1.1-.9-2-2-2zM9 17H7v-7h2v7zm4 0h-2V7h2v10zm4 0h-2v-4h2v4z\"/>\n",
              "    </g>\n",
              "</svg>\n",
              "  </button>\n",
              "\n",
              "<style>\n",
              "  .colab-df-quickchart {\n",
              "      --bg-color: #E8F0FE;\n",
              "      --fill-color: #1967D2;\n",
              "      --hover-bg-color: #E2EBFA;\n",
              "      --hover-fill-color: #174EA6;\n",
              "      --disabled-fill-color: #AAA;\n",
              "      --disabled-bg-color: #DDD;\n",
              "  }\n",
              "\n",
              "  [theme=dark] .colab-df-quickchart {\n",
              "      --bg-color: #3B4455;\n",
              "      --fill-color: #D2E3FC;\n",
              "      --hover-bg-color: #434B5C;\n",
              "      --hover-fill-color: #FFFFFF;\n",
              "      --disabled-bg-color: #3B4455;\n",
              "      --disabled-fill-color: #666;\n",
              "  }\n",
              "\n",
              "  .colab-df-quickchart {\n",
              "    background-color: var(--bg-color);\n",
              "    border: none;\n",
              "    border-radius: 50%;\n",
              "    cursor: pointer;\n",
              "    display: none;\n",
              "    fill: var(--fill-color);\n",
              "    height: 32px;\n",
              "    padding: 0;\n",
              "    width: 32px;\n",
              "  }\n",
              "\n",
              "  .colab-df-quickchart:hover {\n",
              "    background-color: var(--hover-bg-color);\n",
              "    box-shadow: 0 1px 2px rgba(60, 64, 67, 0.3), 0 1px 3px 1px rgba(60, 64, 67, 0.15);\n",
              "    fill: var(--button-hover-fill-color);\n",
              "  }\n",
              "\n",
              "  .colab-df-quickchart-complete:disabled,\n",
              "  .colab-df-quickchart-complete:disabled:hover {\n",
              "    background-color: var(--disabled-bg-color);\n",
              "    fill: var(--disabled-fill-color);\n",
              "    box-shadow: none;\n",
              "  }\n",
              "\n",
              "  .colab-df-spinner {\n",
              "    border: 2px solid var(--fill-color);\n",
              "    border-color: transparent;\n",
              "    border-bottom-color: var(--fill-color);\n",
              "    animation:\n",
              "      spin 1s steps(1) infinite;\n",
              "  }\n",
              "\n",
              "  @keyframes spin {\n",
              "    0% {\n",
              "      border-color: transparent;\n",
              "      border-bottom-color: var(--fill-color);\n",
              "      border-left-color: var(--fill-color);\n",
              "    }\n",
              "    20% {\n",
              "      border-color: transparent;\n",
              "      border-left-color: var(--fill-color);\n",
              "      border-top-color: var(--fill-color);\n",
              "    }\n",
              "    30% {\n",
              "      border-color: transparent;\n",
              "      border-left-color: var(--fill-color);\n",
              "      border-top-color: var(--fill-color);\n",
              "      border-right-color: var(--fill-color);\n",
              "    }\n",
              "    40% {\n",
              "      border-color: transparent;\n",
              "      border-right-color: var(--fill-color);\n",
              "      border-top-color: var(--fill-color);\n",
              "    }\n",
              "    60% {\n",
              "      border-color: transparent;\n",
              "      border-right-color: var(--fill-color);\n",
              "    }\n",
              "    80% {\n",
              "      border-color: transparent;\n",
              "      border-right-color: var(--fill-color);\n",
              "      border-bottom-color: var(--fill-color);\n",
              "    }\n",
              "    90% {\n",
              "      border-color: transparent;\n",
              "      border-bottom-color: var(--fill-color);\n",
              "    }\n",
              "  }\n",
              "</style>\n",
              "\n",
              "  <script>\n",
              "    async function quickchart(key) {\n",
              "      const quickchartButtonEl =\n",
              "        document.querySelector('#' + key + ' button');\n",
              "      quickchartButtonEl.disabled = true;  // To prevent multiple clicks.\n",
              "      quickchartButtonEl.classList.add('colab-df-spinner');\n",
              "      try {\n",
              "        const charts = await google.colab.kernel.invokeFunction(\n",
              "            'suggestCharts', [key], {});\n",
              "      } catch (error) {\n",
              "        console.error('Error during call to suggestCharts:', error);\n",
              "      }\n",
              "      quickchartButtonEl.classList.remove('colab-df-spinner');\n",
              "      quickchartButtonEl.classList.add('colab-df-quickchart-complete');\n",
              "    }\n",
              "    (() => {\n",
              "      let quickchartButtonEl =\n",
              "        document.querySelector('#df-67100741-232a-403b-a4b6-0cf2aea3c7ee button');\n",
              "      quickchartButtonEl.style.display =\n",
              "        google.colab.kernel.accessAllowed ? 'block' : 'none';\n",
              "    })();\n",
              "  </script>\n",
              "</div>\n",
              "\n",
              "    </div>\n",
              "  </div>\n"
            ],
            "application/vnd.google.colaboratory.intrinsic+json": {
              "type": "dataframe",
              "summary": "{\n  \"name\": \"df\",\n  \"rows\": 8,\n  \"fields\": [\n    {\n      \"column\": \"price\",\n      \"properties\": {\n        \"dtype\": \"number\",\n        \"std\": 392618729.7868279,\n        \"min\": 0.0,\n        \"max\": 1111111111.0,\n        \"num_unique_values\": 8,\n        \"samples\": [\n          34507.358803458344,\n          15500.0,\n          69166.0\n        ],\n        \"semantic_type\": \"\",\n        \"description\": \"\"\n      }\n    },\n    {\n      \"column\": \"year\",\n      \"properties\": {\n        \"dtype\": \"number\",\n        \"std\": 23858.841609604806,\n        \"min\": 8.627806275525304,\n        \"max\": 69166.0,\n        \"num_unique_values\": 8,\n        \"samples\": [\n          2011.6980597403349,\n          2014.0,\n          69166.0\n        ],\n        \"semantic_type\": \"\",\n        \"description\": \"\"\n      }\n    },\n    {\n      \"column\": \"odometer\",\n      \"properties\": {\n        \"dtype\": \"number\",\n        \"std\": 3504625.500212957,\n        \"min\": 0.0,\n        \"max\": 10000000.0,\n        \"num_unique_values\": 8,\n        \"samples\": [\n          95112.98781193071,\n          82003.0,\n          69166.0\n        ],\n        \"semantic_type\": \"\",\n        \"description\": \"\"\n      }\n    },\n    {\n      \"column\": \"lat\",\n      \"properties\": {\n        \"dtype\": \"number\",\n        \"std\": 24447.150954913825,\n        \"min\": -81.838232,\n        \"max\": 69166.0,\n        \"num_unique_values\": 8,\n        \"samples\": [\n          36.47832948218778,\n          35.3935,\n          69166.0\n        ],\n        \"semantic_type\": \"\",\n        \"description\": \"\"\n      }\n    },\n    {\n      \"column\": \"long\",\n      \"properties\": {\n        \"dtype\": \"number\",\n        \"std\": 24473.687403602285,\n        \"min\": -158.5996,\n        \"max\": 69166.0,\n        \"num_unique_values\": 8,\n        \"samples\": [\n          -105.59361091281843,\n          -111.9249,\n          69166.0\n        ],\n        \"semantic_type\": \"\",\n        \"description\": \"\"\n      }\n    },\n    {\n      \"column\": \"region_encoded\",\n      \"properties\": {\n        \"dtype\": \"number\",\n        \"std\": 24440.792614691894,\n        \"min\": 0.0,\n        \"max\": 69166.0,\n        \"num_unique_values\": 8,\n        \"samples\": [\n          39.076497122863834,\n          39.0,\n          69166.0\n        ],\n        \"semantic_type\": \"\",\n        \"description\": \"\"\n      }\n    },\n    {\n      \"column\": \"paint_color_encoded\",\n      \"properties\": {\n        \"dtype\": \"number\",\n        \"std\": 24451.855131067052,\n        \"min\": 0.0,\n        \"max\": 69166.0,\n        \"num_unique_values\": 8,\n        \"samples\": [\n          5.866524014689298,\n          8.0,\n          69166.0\n        ],\n        \"semantic_type\": \"\",\n        \"description\": \"\"\n      }\n    },\n    {\n      \"column\": \"manufacturer_encoded\",\n      \"properties\": {\n        \"dtype\": \"number\",\n        \"std\": 24447.479365304916,\n        \"min\": 0.0,\n        \"max\": 69166.0,\n        \"num_unique_values\": 8,\n        \"samples\": [\n          19.11994332475494,\n          16.0,\n          69166.0\n        ],\n        \"semantic_type\": \"\",\n        \"description\": \"\"\n      }\n    },\n    {\n      \"column\": \"model_encoded\",\n      \"properties\": {\n        \"dtype\": \"number\",\n        \"std\": 23196.268973676535,\n        \"min\": 0.0,\n        \"max\": 69166.0,\n        \"num_unique_values\": 8,\n        \"samples\": [\n          4228.0357690194605,\n          4166.0,\n          69166.0\n        ],\n        \"semantic_type\": \"\",\n        \"description\": \"\"\n      }\n    },\n    {\n      \"column\": \"fuel_encoded\",\n      \"properties\": {\n        \"dtype\": \"number\",\n        \"std\": 24453.22573752684,\n        \"min\": 0.0,\n        \"max\": 69166.0,\n        \"num_unique_values\": 6,\n        \"samples\": [\n          69166.0,\n          2.064829540525692,\n          4.0\n        ],\n        \"semantic_type\": \"\",\n        \"description\": \"\"\n      }\n    },\n    {\n      \"column\": \"title_status_encoded\",\n      \"properties\": {\n        \"dtype\": \"number\",\n        \"std\": 24453.582969293093,\n        \"min\": 0.0,\n        \"max\": 69166.0,\n        \"num_unique_values\": 5,\n        \"samples\": [\n          0.10152387010959142,\n          5.0,\n          0.6581004560715287\n        ],\n        \"semantic_type\": \"\",\n        \"description\": \"\"\n      }\n    },\n    {\n      \"column\": \"transmission_encoded\",\n      \"properties\": {\n        \"dtype\": \"number\",\n        \"std\": 24453.713899214297,\n        \"min\": 0.0,\n        \"max\": 69166.0,\n        \"num_unique_values\": 5,\n        \"samples\": [\n          0.40161350952780267,\n          2.0,\n          0.7647248936560986\n        ],\n        \"semantic_type\": \"\",\n        \"description\": \"\"\n      }\n    },\n    {\n      \"column\": \"type_encoded\",\n      \"properties\": {\n        \"dtype\": \"number\",\n        \"std\": 24451.665890391905,\n        \"min\": 0.0,\n        \"max\": 69166.0,\n        \"num_unique_values\": 8,\n        \"samples\": [\n          6.694676575195905,\n          8.0,\n          69166.0\n        ],\n        \"semantic_type\": \"\",\n        \"description\": \"\"\n      }\n    },\n    {\n      \"column\": \"state_encoded\",\n      \"properties\": {\n        \"dtype\": \"number\",\n        \"std\": 24452.41510819294,\n        \"min\": 0.0,\n        \"max\": 69166.0,\n        \"num_unique_values\": 7,\n        \"samples\": [\n          69166.0,\n          4.586733366104734,\n          5.0\n        ],\n        \"semantic_type\": \"\",\n        \"description\": \"\"\n      }\n    },\n    {\n      \"column\": \"log_price\",\n      \"properties\": {\n        \"dtype\": \"number\",\n        \"std\": 24450.7897173281,\n        \"min\": 0.0,\n        \"max\": 69166.0,\n        \"num_unique_values\": 8,\n        \"samples\": [\n          8.870963156774097,\n          9.648659816955295,\n          69166.0\n        ],\n        \"semantic_type\": \"\",\n        \"description\": \"\"\n      }\n    }\n  ]\n}"
            }
          },
          "metadata": {},
          "execution_count": 98
        }
      ]
    },
    {
      "cell_type": "markdown",
      "source": [
        "### -> Análisis\n",
        "Ya se revisaron arriba"
      ],
      "metadata": {
        "id": "tm-oV5Mhwkfx"
      }
    },
    {
      "cell_type": "markdown",
      "source": [
        "# 4) Modelado y Evaluación:\n",
        "\n"
      ],
      "metadata": {
        "id": "aMqPQJP6avMK"
      }
    },
    {
      "cell_type": "markdown",
      "source": [
        "## - Implementar al menos dos modelos de regresión (Linear Regression y Random Forest Regressor).\n"
      ],
      "metadata": {
        "id": "q8zCf3Erlxp2"
      }
    },
    {
      "cell_type": "code",
      "source": [],
      "metadata": {
        "id": "P-u36D6slxFR"
      },
      "execution_count": null,
      "outputs": []
    },
    {
      "cell_type": "markdown",
      "source": [
        "## - Evaluar los modelos utilizando MSE, RMSE, y R^2.\n"
      ],
      "metadata": {
        "id": "ARP99I3Kly_e"
      }
    },
    {
      "cell_type": "code",
      "source": [],
      "metadata": {
        "id": "O8Wlm-u9lxKT"
      },
      "execution_count": null,
      "outputs": []
    },
    {
      "cell_type": "markdown",
      "source": [
        "## - Seleccionar el mejor modelo basado en las métricas de evaluación."
      ],
      "metadata": {
        "id": "YgugGB-Gl0NR"
      }
    },
    {
      "cell_type": "code",
      "source": [],
      "metadata": {
        "id": "AJy-08OQl1pO"
      },
      "execution_count": null,
      "outputs": []
    },
    {
      "cell_type": "markdown",
      "source": [
        "#5) Optimización del Modelo:\n",
        "\n"
      ],
      "metadata": {
        "id": "rcsLmWLxa6na"
      }
    },
    {
      "cell_type": "markdown",
      "source": [
        "## - Optimizar el modelo seleccionado utilizando GridSearchCV."
      ],
      "metadata": {
        "id": "Exp7IbwHl1SL"
      }
    },
    {
      "cell_type": "code",
      "source": [],
      "metadata": {
        "id": "h9NA-Wjwgg4l"
      },
      "execution_count": null,
      "outputs": []
    },
    {
      "cell_type": "markdown",
      "source": [
        "#6) Documentación y Entrega:\n",
        "\n",
        "- Documentar todo el proceso en un archivo .ipynb claramente comentado.\n",
        "- Crear visualizaciones con interpretaciones.\n",
        "- Subir el archivo a un repositorio en GitHub con un tag de liberación."
      ],
      "metadata": {
        "id": "XhMgWeZvbAl8"
      }
    },
    {
      "cell_type": "code",
      "source": [],
      "metadata": {
        "id": "pCvgRktKbG_b"
      },
      "execution_count": null,
      "outputs": []
    },
    {
      "cell_type": "markdown",
      "source": [
        "# Conclusión\n",
        "\n"
      ],
      "metadata": {
        "id": "wKeCjkDBg8hr"
      }
    },
    {
      "cell_type": "code",
      "source": [],
      "metadata": {
        "id": "vddYVw-mYrk1"
      },
      "execution_count": null,
      "outputs": []
    },
    {
      "cell_type": "markdown",
      "source": [
        "En mi caso, después de mucho trabajarle y revisar, con datos descargados de kaggle y subidos al colab, o descargados directamente de kaggle en el colab,\n",
        "\n",
        "No encontré ninguna correlación en las variables\n",
        "\n",
        "Después de dos semanas, decido entregar esto así, dado que, si bien considero que no hice el ejercicio, no sé que pasa con los datos o conmigo, que esto no me quiere funcionar,\n",
        "\n",
        "Incluso revisé por aparte una correlación apenas se cargaron todos los datos y price no me da para relacionar con nada, así que no supe que hacer y por cuestiones de tiempo prefiero entregarlo así\n",
        "\n",
        "mis más sinceras disculpas por el trabajo mediocre\n",
        "\n",
        "\n"
      ],
      "metadata": {
        "id": "LDBtSeCYYr5x"
      }
    },
    {
      "cell_type": "markdown",
      "source": [
        "![image.png](data:image/png;base64,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)"
      ],
      "metadata": {
        "id": "xbu-zVGKxH6B"
      }
    },
    {
      "cell_type": "code",
      "source": [],
      "metadata": {
        "id": "jqnfxHg3xIUJ"
      },
      "execution_count": null,
      "outputs": []
    }
  ]
}